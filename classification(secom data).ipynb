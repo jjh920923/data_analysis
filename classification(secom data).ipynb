{
 "cells": [
  {
   "cell_type": "code",
   "execution_count": 1,
   "metadata": {},
   "outputs": [],
   "source": [
    "import warnings\n",
    "warnings.simplefilter(\"ignore\")"
   ]
  },
  {
   "cell_type": "code",
   "execution_count": 2,
   "metadata": {},
   "outputs": [],
   "source": [
    "import numpy as np\n",
    "import pandas as pd\n",
    "import seaborn as sns\n",
    "import scikitplot as skplt\n",
    "import matplotlib.pyplot as plt\n",
    "from sklearn.svm import SVC\n",
    "from imblearn.over_sampling import SMOTE\n",
    "from sklearn.impute import KNNImputer\n",
    "from sklearn.decomposition import PCA\n",
    "from sklearn.preprocessing import StandardScaler\n",
    "from sklearn.model_selection import GridSearchCV\n",
    "from sklearn.ensemble import ExtraTreesClassifier\n",
    "from sklearn.ensemble import RandomForestClassifier\n",
    "from sklearn.model_selection import cross_val_score\n",
    "from sklearn.model_selection import validation_curve\n",
    "from sklearn.model_selection import train_test_split\n",
    "from sklearn.discriminant_analysis import LinearDiscriminantAnalysis\n",
    "from sklearn.metrics import accuracy_score, confusion_matrix, classification_report"
   ]
  },
  {
   "cell_type": "code",
   "execution_count": 3,
   "metadata": {},
   "outputs": [
    {
     "data": {
      "text/html": [
       "<div>\n",
       "<style scoped>\n",
       "    .dataframe tbody tr th:only-of-type {\n",
       "        vertical-align: middle;\n",
       "    }\n",
       "\n",
       "    .dataframe tbody tr th {\n",
       "        vertical-align: top;\n",
       "    }\n",
       "\n",
       "    .dataframe thead th {\n",
       "        text-align: right;\n",
       "    }\n",
       "</style>\n",
       "<table border=\"1\" class=\"dataframe\">\n",
       "  <thead>\n",
       "    <tr style=\"text-align: right;\">\n",
       "      <th></th>\n",
       "      <th>0</th>\n",
       "      <th>1</th>\n",
       "      <th>2</th>\n",
       "      <th>3</th>\n",
       "      <th>4</th>\n",
       "      <th>5</th>\n",
       "      <th>6</th>\n",
       "      <th>7</th>\n",
       "      <th>8</th>\n",
       "      <th>9</th>\n",
       "      <th>...</th>\n",
       "      <th>580</th>\n",
       "      <th>581</th>\n",
       "      <th>582</th>\n",
       "      <th>583</th>\n",
       "      <th>584</th>\n",
       "      <th>585</th>\n",
       "      <th>586</th>\n",
       "      <th>587</th>\n",
       "      <th>588</th>\n",
       "      <th>589</th>\n",
       "    </tr>\n",
       "  </thead>\n",
       "  <tbody>\n",
       "    <tr>\n",
       "      <th>0</th>\n",
       "      <td>3030.93</td>\n",
       "      <td>2564.00</td>\n",
       "      <td>2187.7333</td>\n",
       "      <td>1411.1265</td>\n",
       "      <td>1.3602</td>\n",
       "      <td>100.0</td>\n",
       "      <td>97.6133</td>\n",
       "      <td>0.1242</td>\n",
       "      <td>1.5005</td>\n",
       "      <td>0.0162</td>\n",
       "      <td>...</td>\n",
       "      <td>NaN</td>\n",
       "      <td>NaN</td>\n",
       "      <td>0.5005</td>\n",
       "      <td>0.0118</td>\n",
       "      <td>0.0035</td>\n",
       "      <td>2.3630</td>\n",
       "      <td>NaN</td>\n",
       "      <td>NaN</td>\n",
       "      <td>NaN</td>\n",
       "      <td>NaN</td>\n",
       "    </tr>\n",
       "    <tr>\n",
       "      <th>1</th>\n",
       "      <td>3095.78</td>\n",
       "      <td>2465.14</td>\n",
       "      <td>2230.4222</td>\n",
       "      <td>1463.6606</td>\n",
       "      <td>0.8294</td>\n",
       "      <td>100.0</td>\n",
       "      <td>102.3433</td>\n",
       "      <td>0.1247</td>\n",
       "      <td>1.4966</td>\n",
       "      <td>-0.0005</td>\n",
       "      <td>...</td>\n",
       "      <td>0.0060</td>\n",
       "      <td>208.2045</td>\n",
       "      <td>0.5019</td>\n",
       "      <td>0.0223</td>\n",
       "      <td>0.0055</td>\n",
       "      <td>4.4447</td>\n",
       "      <td>0.0096</td>\n",
       "      <td>0.0201</td>\n",
       "      <td>0.0060</td>\n",
       "      <td>208.2045</td>\n",
       "    </tr>\n",
       "    <tr>\n",
       "      <th>2</th>\n",
       "      <td>2932.61</td>\n",
       "      <td>2559.94</td>\n",
       "      <td>2186.4111</td>\n",
       "      <td>1698.0172</td>\n",
       "      <td>1.5102</td>\n",
       "      <td>100.0</td>\n",
       "      <td>95.4878</td>\n",
       "      <td>0.1241</td>\n",
       "      <td>1.4436</td>\n",
       "      <td>0.0041</td>\n",
       "      <td>...</td>\n",
       "      <td>0.0148</td>\n",
       "      <td>82.8602</td>\n",
       "      <td>0.4958</td>\n",
       "      <td>0.0157</td>\n",
       "      <td>0.0039</td>\n",
       "      <td>3.1745</td>\n",
       "      <td>0.0584</td>\n",
       "      <td>0.0484</td>\n",
       "      <td>0.0148</td>\n",
       "      <td>82.8602</td>\n",
       "    </tr>\n",
       "    <tr>\n",
       "      <th>3</th>\n",
       "      <td>2988.72</td>\n",
       "      <td>2479.90</td>\n",
       "      <td>2199.0333</td>\n",
       "      <td>909.7926</td>\n",
       "      <td>1.3204</td>\n",
       "      <td>100.0</td>\n",
       "      <td>104.2367</td>\n",
       "      <td>0.1217</td>\n",
       "      <td>1.4882</td>\n",
       "      <td>-0.0124</td>\n",
       "      <td>...</td>\n",
       "      <td>0.0044</td>\n",
       "      <td>73.8432</td>\n",
       "      <td>0.4990</td>\n",
       "      <td>0.0103</td>\n",
       "      <td>0.0025</td>\n",
       "      <td>2.0544</td>\n",
       "      <td>0.0202</td>\n",
       "      <td>0.0149</td>\n",
       "      <td>0.0044</td>\n",
       "      <td>73.8432</td>\n",
       "    </tr>\n",
       "    <tr>\n",
       "      <th>4</th>\n",
       "      <td>3032.24</td>\n",
       "      <td>2502.87</td>\n",
       "      <td>2233.3667</td>\n",
       "      <td>1326.5200</td>\n",
       "      <td>1.5334</td>\n",
       "      <td>100.0</td>\n",
       "      <td>100.3967</td>\n",
       "      <td>0.1235</td>\n",
       "      <td>1.5031</td>\n",
       "      <td>-0.0031</td>\n",
       "      <td>...</td>\n",
       "      <td>NaN</td>\n",
       "      <td>NaN</td>\n",
       "      <td>0.4800</td>\n",
       "      <td>0.4766</td>\n",
       "      <td>0.1045</td>\n",
       "      <td>99.3032</td>\n",
       "      <td>0.0202</td>\n",
       "      <td>0.0149</td>\n",
       "      <td>0.0044</td>\n",
       "      <td>73.8432</td>\n",
       "    </tr>\n",
       "  </tbody>\n",
       "</table>\n",
       "<p>5 rows × 590 columns</p>\n",
       "</div>"
      ],
      "text/plain": [
       "       0        1          2          3       4      5         6       7    \\\n",
       "0  3030.93  2564.00  2187.7333  1411.1265  1.3602  100.0   97.6133  0.1242   \n",
       "1  3095.78  2465.14  2230.4222  1463.6606  0.8294  100.0  102.3433  0.1247   \n",
       "2  2932.61  2559.94  2186.4111  1698.0172  1.5102  100.0   95.4878  0.1241   \n",
       "3  2988.72  2479.90  2199.0333   909.7926  1.3204  100.0  104.2367  0.1217   \n",
       "4  3032.24  2502.87  2233.3667  1326.5200  1.5334  100.0  100.3967  0.1235   \n",
       "\n",
       "      8       9    ...     580       581     582     583     584      585  \\\n",
       "0  1.5005  0.0162  ...     NaN       NaN  0.5005  0.0118  0.0035   2.3630   \n",
       "1  1.4966 -0.0005  ...  0.0060  208.2045  0.5019  0.0223  0.0055   4.4447   \n",
       "2  1.4436  0.0041  ...  0.0148   82.8602  0.4958  0.0157  0.0039   3.1745   \n",
       "3  1.4882 -0.0124  ...  0.0044   73.8432  0.4990  0.0103  0.0025   2.0544   \n",
       "4  1.5031 -0.0031  ...     NaN       NaN  0.4800  0.4766  0.1045  99.3032   \n",
       "\n",
       "      586     587     588       589  \n",
       "0     NaN     NaN     NaN       NaN  \n",
       "1  0.0096  0.0201  0.0060  208.2045  \n",
       "2  0.0584  0.0484  0.0148   82.8602  \n",
       "3  0.0202  0.0149  0.0044   73.8432  \n",
       "4  0.0202  0.0149  0.0044   73.8432  \n",
       "\n",
       "[5 rows x 590 columns]"
      ]
     },
     "execution_count": 3,
     "metadata": {},
     "output_type": "execute_result"
    }
   ],
   "source": [
    "secom = pd.read_csv(\"secom.data\", sep=\" \", header=None)\n",
    "secom.head()"
   ]
  },
  {
   "cell_type": "code",
   "execution_count": 4,
   "metadata": {
    "scrolled": false
   },
   "outputs": [
    {
     "data": {
      "text/html": [
       "<div>\n",
       "<style scoped>\n",
       "    .dataframe tbody tr th:only-of-type {\n",
       "        vertical-align: middle;\n",
       "    }\n",
       "\n",
       "    .dataframe tbody tr th {\n",
       "        vertical-align: top;\n",
       "    }\n",
       "\n",
       "    .dataframe thead th {\n",
       "        text-align: right;\n",
       "    }\n",
       "</style>\n",
       "<table border=\"1\" class=\"dataframe\">\n",
       "  <thead>\n",
       "    <tr style=\"text-align: right;\">\n",
       "      <th></th>\n",
       "      <th>class</th>\n",
       "      <th>date</th>\n",
       "    </tr>\n",
       "  </thead>\n",
       "  <tbody>\n",
       "    <tr>\n",
       "      <th>0</th>\n",
       "      <td>-1</td>\n",
       "      <td>19/07/2008 11:55:00</td>\n",
       "    </tr>\n",
       "    <tr>\n",
       "      <th>1</th>\n",
       "      <td>-1</td>\n",
       "      <td>19/07/2008 12:32:00</td>\n",
       "    </tr>\n",
       "    <tr>\n",
       "      <th>2</th>\n",
       "      <td>1</td>\n",
       "      <td>19/07/2008 13:17:00</td>\n",
       "    </tr>\n",
       "    <tr>\n",
       "      <th>3</th>\n",
       "      <td>-1</td>\n",
       "      <td>19/07/2008 14:43:00</td>\n",
       "    </tr>\n",
       "    <tr>\n",
       "      <th>4</th>\n",
       "      <td>-1</td>\n",
       "      <td>19/07/2008 15:22:00</td>\n",
       "    </tr>\n",
       "  </tbody>\n",
       "</table>\n",
       "</div>"
      ],
      "text/plain": [
       "   class                 date\n",
       "0     -1  19/07/2008 11:55:00\n",
       "1     -1  19/07/2008 12:32:00\n",
       "2      1  19/07/2008 13:17:00\n",
       "3     -1  19/07/2008 14:43:00\n",
       "4     -1  19/07/2008 15:22:00"
      ]
     },
     "execution_count": 4,
     "metadata": {},
     "output_type": "execute_result"
    }
   ],
   "source": [
    "secom_labels = pd.read_csv(\"secom_labels.data\", sep=\" \", header=None)\n",
    "secom_labels.columns=[\"class\", \"date\"]\n",
    "secom_labels.head()"
   ]
  },
  {
   "cell_type": "code",
   "execution_count": 5,
   "metadata": {},
   "outputs": [],
   "source": [
    "df = pd.concat([secom, secom_labels['class']], axis = 1)"
   ]
  },
  {
   "cell_type": "code",
   "execution_count": 6,
   "metadata": {
    "scrolled": false
   },
   "outputs": [
    {
     "data": {
      "text/plain": [
       "(1567, 591)"
      ]
     },
     "execution_count": 6,
     "metadata": {},
     "output_type": "execute_result"
    }
   ],
   "source": [
    "np.shape(df)"
   ]
  },
  {
   "cell_type": "code",
   "execution_count": 7,
   "metadata": {
    "scrolled": true
   },
   "outputs": [
    {
     "name": "stdout",
     "output_type": "stream",
     "text": [
      "원래 데이터 프레임 크기 :  (1567, 591)\n",
      "행을 제거한 후 데이터 프레임 크기 :  (1567, 591)\n",
      "열을 제거한 후 데이터 프레임 크기 :  (1567, 487)\n"
     ]
    }
   ],
   "source": [
    "# 중복되는 열과 행 체크\n",
    "# drop_duplicates()는 행을 기준으로 제거한다.\n",
    "# 원래 행\n",
    "print('원래 데이터 프레임 크기 : ', np.shape(df))\n",
    "\n",
    "# 중복되는 행 체크\n",
    "# 중복되는 행은 없는 것으로 나타났다.\n",
    "print('행을 제거한 후 데이터 프레임 크기 : ', np.shape(df.drop_duplicates()))\n",
    "\n",
    "# 중복되는 열 체크\n",
    "# 중복되는 열은 591 - 487 = 104개 있는 것으로 나타났다.\n",
    "print('열을 제거한 후 데이터 프레임 크기 : ', np.shape(df.T.drop_duplicates().T))\n",
    "\n",
    "# 중복되는 열 제거\n",
    "df = df.T.drop_duplicates()\n",
    "df = df.T"
   ]
  },
  {
   "cell_type": "code",
   "execution_count": 8,
   "metadata": {
    "scrolled": false
   },
   "outputs": [
    {
     "data": {
      "text/plain": [
       "0         6\n",
       "1         7\n",
       "2        14\n",
       "3        14\n",
       "4        14\n",
       "         ..\n",
       "586       1\n",
       "587       1\n",
       "588       1\n",
       "589       1\n",
       "class     0\n",
       "Length: 487, dtype: int64"
      ]
     },
     "execution_count": 8,
     "metadata": {},
     "output_type": "execute_result"
    }
   ],
   "source": [
    "# 열을 기준으로 측정한 결측치 갯수\n",
    "col_null = df.isnull().sum()\n",
    "col_null"
   ]
  },
  {
   "cell_type": "code",
   "execution_count": 9,
   "metadata": {
    "scrolled": true
   },
   "outputs": [
    {
     "data": {
      "image/png": "[encoded data removed]",
      "text/plain": [
       "<Figure size 432x288 with 1 Axes>"
      ]
     },
     "metadata": {
      "needs_background": "light"
     },
     "output_type": "display_data"
    }
   ],
   "source": [
    "# 열을 기준으로 측정한 결측치 갯수\n",
    "plt.scatter(col_null[:-1].index, col_null[:-1])\n",
    "plt.show()"
   ]
  },
  {
   "cell_type": "code",
   "execution_count": 10,
   "metadata": {},
   "outputs": [
    {
     "data": {
      "text/plain": [
       "(1567, 435)"
      ]
     },
     "execution_count": 10,
     "metadata": {},
     "output_type": "execute_result"
    }
   ],
   "source": [
    "# 전체 데이터의 10%가 넘는 데이터가 결측치라면 제거해주도록 한다.\n",
    "# 487개의 열에서 435개의 열로 줄어든 것을 확인할 수 있다.\n",
    "df = df[col_null[col_null < len(df)*0.1].index]\n",
    "np.shape(df)"
   ]
  },
  {
   "cell_type": "code",
   "execution_count": 11,
   "metadata": {},
   "outputs": [
    {
     "data": {
      "text/plain": [
       "0         4\n",
       "1         0\n",
       "2         0\n",
       "3         0\n",
       "4         0\n",
       "       ... \n",
       "1562     36\n",
       "1563     36\n",
       "1564    101\n",
       "1565     44\n",
       "1566    101\n",
       "Length: 1567, dtype: int64"
      ]
     },
     "execution_count": 11,
     "metadata": {},
     "output_type": "execute_result"
    }
   ],
   "source": [
    "# 행을 기준으로 측정한 결측치 갯수\n",
    "row_null = df.T.isnull().sum()\n",
    "row_null"
   ]
  },
  {
   "cell_type": "code",
   "execution_count": 12,
   "metadata": {},
   "outputs": [
    {
     "data": {
      "image/png": "[encoded data removed]",
      "text/plain": [
       "<Figure size 432x288 with 1 Axes>"
      ]
     },
     "metadata": {
      "needs_background": "light"
     },
     "output_type": "display_data"
    }
   ],
   "source": [
    "# 행을 기준으로 측정한 결측치 갯수\n",
    "plt.scatter(row_null.index, row_null)\n",
    "plt.show()"
   ]
  },
  {
   "cell_type": "code",
   "execution_count": 13,
   "metadata": {},
   "outputs": [
    {
     "data": {
      "text/plain": [
       "(1547, 435)"
      ]
     },
     "execution_count": 13,
     "metadata": {},
     "output_type": "execute_result"
    }
   ],
   "source": [
    "# 행을 제거해버리니 class 1이 다 날아가서 제거하는 대신 다른값을 대입시키도록 한다.\n",
    "# 전체 데이터의 10%가 넘는 데이터가 결측치라면 제거해주도록 한다.\n",
    "# 1567개의 열에서 1547개의 열로 줄어든 것을 확인할 수 있다.\n",
    "df = df.T[row_null[row_null < np.shape(df)[1]*0.1].index]\n",
    "df = df.T\n",
    "np.shape(df)"
   ]
  },
  {
   "cell_type": "code",
   "execution_count": 14,
   "metadata": {},
   "outputs": [
    {
     "data": {
      "text/plain": [
       "0"
      ]
     },
     "execution_count": 14,
     "metadata": {},
     "output_type": "execute_result"
    }
   ],
   "source": [
    "# 나머지 결측치 채우기\n",
    "# 나머지 결측치들은 KNN Imputer를 사용하여 채워 넣는다.\n",
    "imputer = KNNImputer(n_neighbors = 3, weights = 'distance')\n",
    "df1 = pd.DataFrame(imputer.fit_transform(df))\n",
    "df1.isnull().sum().sum()"
   ]
  },
  {
   "cell_type": "code",
   "execution_count": 15,
   "metadata": {},
   "outputs": [],
   "source": [
    "# 데이터를 살펴보았을 때 한 값으로 되어있는 컬럼들이 존재했다.\n",
    "# 이런 컬럼들은 분석에 불필요하기 때문에 제거하도록한다.\n",
    "for i in df1.columns:\n",
    "    if df1[i].skew() == 0:\n",
    "        df1 = df1.drop([i], axis = 1)"
   ]
  },
  {
   "cell_type": "code",
   "execution_count": 16,
   "metadata": {},
   "outputs": [
    {
     "data": {
      "text/plain": [
       "(1547, 423)"
      ]
     },
     "execution_count": 16,
     "metadata": {},
     "output_type": "execute_result"
    }
   ],
   "source": [
    "# 12개의 열이 제거 된 것을 확인할 수 있다.\n",
    "np.shape(df1)"
   ]
  },
  {
   "cell_type": "code",
   "execution_count": 17,
   "metadata": {},
   "outputs": [],
   "source": [
    "# 데이터에 0의 갯수가 전체 데이터의 70% 이상을 차지하는 데이터는 제거한다.\n",
    "for i in df1.columns:\n",
    "    if list(df1[i]).count(0) > len(df1)*0.7:\n",
    "        df1 = df1.drop([i], axis = 1)"
   ]
  },
  {
   "cell_type": "code",
   "execution_count": 18,
   "metadata": {},
   "outputs": [
    {
     "data": {
      "text/plain": [
       "(1547, 413)"
      ]
     },
     "execution_count": 18,
     "metadata": {},
     "output_type": "execute_result"
    }
   ],
   "source": [
    "# 10개의 열이 제거 된 것을 확인할 수 있다.\n",
    "np.shape(df1)"
   ]
  },
  {
   "cell_type": "code",
   "execution_count": 19,
   "metadata": {},
   "outputs": [],
   "source": [
    "# 아주 극단적인 데이터들을 찾아 제거하도록 한다.\n",
    "def boxplot_outlier(df):\n",
    "    for i in range(np.shape(df)[1]-1):     \n",
    "        Q1 = df.iloc[:,i].quantile(0.25)\n",
    "        Q3 = df.iloc[:,i].quantile(0.75)\n",
    "        IQR = Q3 - Q1\n",
    "        outlier_left = float(Q1 - (1.5 * IQR))\n",
    "        outlier_right = float(Q3 + (1.5 * IQR))\n",
    "        box_range = outlier_right - outlier_left\n",
    "        outlier = df[(df.iloc[:,i] < outlier_left - box_range) | (df.iloc[:,i] > outlier_right + box_range)]\n",
    "        df.iloc[:,i][outlier.index] = np.nan\n",
    "    return df"
   ]
  },
  {
   "cell_type": "code",
   "execution_count": 20,
   "metadata": {},
   "outputs": [
    {
     "data": {
      "text/html": [
       "<div>\n",
       "<style scoped>\n",
       "    .dataframe tbody tr th:only-of-type {\n",
       "        vertical-align: middle;\n",
       "    }\n",
       "\n",
       "    .dataframe tbody tr th {\n",
       "        vertical-align: top;\n",
       "    }\n",
       "\n",
       "    .dataframe thead th {\n",
       "        text-align: right;\n",
       "    }\n",
       "</style>\n",
       "<table border=\"1\" class=\"dataframe\">\n",
       "  <thead>\n",
       "    <tr style=\"text-align: right;\">\n",
       "      <th></th>\n",
       "      <th>0</th>\n",
       "      <th>1</th>\n",
       "      <th>2</th>\n",
       "      <th>3</th>\n",
       "      <th>4</th>\n",
       "      <th>6</th>\n",
       "      <th>7</th>\n",
       "      <th>8</th>\n",
       "      <th>9</th>\n",
       "      <th>10</th>\n",
       "      <th>...</th>\n",
       "      <th>425</th>\n",
       "      <th>426</th>\n",
       "      <th>427</th>\n",
       "      <th>428</th>\n",
       "      <th>429</th>\n",
       "      <th>430</th>\n",
       "      <th>431</th>\n",
       "      <th>432</th>\n",
       "      <th>433</th>\n",
       "      <th>434</th>\n",
       "    </tr>\n",
       "  </thead>\n",
       "  <tbody>\n",
       "    <tr>\n",
       "      <th>0</th>\n",
       "      <td>3030.93</td>\n",
       "      <td>2564.00</td>\n",
       "      <td>2187.7333</td>\n",
       "      <td>1411.1265</td>\n",
       "      <td>1.3602</td>\n",
       "      <td>97.6133</td>\n",
       "      <td>0.1242</td>\n",
       "      <td>1.5005</td>\n",
       "      <td>0.0162</td>\n",
       "      <td>-0.0034</td>\n",
       "      <td>...</td>\n",
       "      <td>14.9509</td>\n",
       "      <td>0.5005</td>\n",
       "      <td>0.0118</td>\n",
       "      <td>0.0035</td>\n",
       "      <td>2.3630</td>\n",
       "      <td>0.021537</td>\n",
       "      <td>0.016617</td>\n",
       "      <td>0.00561</td>\n",
       "      <td>81.274442</td>\n",
       "      <td>-1.0</td>\n",
       "    </tr>\n",
       "    <tr>\n",
       "      <th>1</th>\n",
       "      <td>3095.78</td>\n",
       "      <td>2465.14</td>\n",
       "      <td>2230.4222</td>\n",
       "      <td>1463.6606</td>\n",
       "      <td>0.8294</td>\n",
       "      <td>102.3433</td>\n",
       "      <td>0.1247</td>\n",
       "      <td>1.4966</td>\n",
       "      <td>-0.0005</td>\n",
       "      <td>-0.0148</td>\n",
       "      <td>...</td>\n",
       "      <td>10.9003</td>\n",
       "      <td>0.5019</td>\n",
       "      <td>0.0223</td>\n",
       "      <td>0.0055</td>\n",
       "      <td>4.4447</td>\n",
       "      <td>0.009600</td>\n",
       "      <td>0.020100</td>\n",
       "      <td>0.00600</td>\n",
       "      <td>208.204500</td>\n",
       "      <td>-1.0</td>\n",
       "    </tr>\n",
       "    <tr>\n",
       "      <th>2</th>\n",
       "      <td>2932.61</td>\n",
       "      <td>2559.94</td>\n",
       "      <td>2186.4111</td>\n",
       "      <td>1698.0172</td>\n",
       "      <td>1.5102</td>\n",
       "      <td>95.4878</td>\n",
       "      <td>0.1241</td>\n",
       "      <td>1.4436</td>\n",
       "      <td>0.0041</td>\n",
       "      <td>0.0013</td>\n",
       "      <td>...</td>\n",
       "      <td>9.2721</td>\n",
       "      <td>0.4958</td>\n",
       "      <td>0.0157</td>\n",
       "      <td>0.0039</td>\n",
       "      <td>3.1745</td>\n",
       "      <td>0.058400</td>\n",
       "      <td>0.048400</td>\n",
       "      <td>0.01480</td>\n",
       "      <td>82.860200</td>\n",
       "      <td>1.0</td>\n",
       "    </tr>\n",
       "    <tr>\n",
       "      <th>3</th>\n",
       "      <td>2988.72</td>\n",
       "      <td>2479.90</td>\n",
       "      <td>2199.0333</td>\n",
       "      <td>909.7926</td>\n",
       "      <td>1.3204</td>\n",
       "      <td>104.2367</td>\n",
       "      <td>0.1217</td>\n",
       "      <td>1.4882</td>\n",
       "      <td>-0.0124</td>\n",
       "      <td>-0.0033</td>\n",
       "      <td>...</td>\n",
       "      <td>8.5831</td>\n",
       "      <td>0.4990</td>\n",
       "      <td>0.0103</td>\n",
       "      <td>0.0025</td>\n",
       "      <td>2.0544</td>\n",
       "      <td>0.020200</td>\n",
       "      <td>0.014900</td>\n",
       "      <td>0.00440</td>\n",
       "      <td>73.843200</td>\n",
       "      <td>-1.0</td>\n",
       "    </tr>\n",
       "    <tr>\n",
       "      <th>4</th>\n",
       "      <td>3032.24</td>\n",
       "      <td>2502.87</td>\n",
       "      <td>2233.3667</td>\n",
       "      <td>1326.5200</td>\n",
       "      <td>1.5334</td>\n",
       "      <td>100.3967</td>\n",
       "      <td>0.1235</td>\n",
       "      <td>1.5031</td>\n",
       "      <td>-0.0031</td>\n",
       "      <td>-0.0072</td>\n",
       "      <td>...</td>\n",
       "      <td>10.9698</td>\n",
       "      <td>0.4800</td>\n",
       "      <td>NaN</td>\n",
       "      <td>NaN</td>\n",
       "      <td>NaN</td>\n",
       "      <td>0.020200</td>\n",
       "      <td>0.014900</td>\n",
       "      <td>0.00440</td>\n",
       "      <td>73.843200</td>\n",
       "      <td>-1.0</td>\n",
       "    </tr>\n",
       "    <tr>\n",
       "      <th>...</th>\n",
       "      <td>...</td>\n",
       "      <td>...</td>\n",
       "      <td>...</td>\n",
       "      <td>...</td>\n",
       "      <td>...</td>\n",
       "      <td>...</td>\n",
       "      <td>...</td>\n",
       "      <td>...</td>\n",
       "      <td>...</td>\n",
       "      <td>...</td>\n",
       "      <td>...</td>\n",
       "      <td>...</td>\n",
       "      <td>...</td>\n",
       "      <td>...</td>\n",
       "      <td>...</td>\n",
       "      <td>...</td>\n",
       "      <td>...</td>\n",
       "      <td>...</td>\n",
       "      <td>...</td>\n",
       "      <td>...</td>\n",
       "      <td>...</td>\n",
       "    </tr>\n",
       "    <tr>\n",
       "      <th>1542</th>\n",
       "      <td>3072.10</td>\n",
       "      <td>2534.87</td>\n",
       "      <td>2177.4333</td>\n",
       "      <td>2945.8855</td>\n",
       "      <td>1.3321</td>\n",
       "      <td>83.1700</td>\n",
       "      <td>0.1253</td>\n",
       "      <td>1.4359</td>\n",
       "      <td>-0.0114</td>\n",
       "      <td>0.0096</td>\n",
       "      <td>...</td>\n",
       "      <td>12.8330</td>\n",
       "      <td>0.5010</td>\n",
       "      <td>0.0132</td>\n",
       "      <td>0.0035</td>\n",
       "      <td>2.6249</td>\n",
       "      <td>0.027700</td>\n",
       "      <td>0.007400</td>\n",
       "      <td>0.00230</td>\n",
       "      <td>26.733000</td>\n",
       "      <td>-1.0</td>\n",
       "    </tr>\n",
       "    <tr>\n",
       "      <th>1543</th>\n",
       "      <td>3012.30</td>\n",
       "      <td>2466.84</td>\n",
       "      <td>2217.4111</td>\n",
       "      <td>1032.2836</td>\n",
       "      <td>1.4802</td>\n",
       "      <td>101.3511</td>\n",
       "      <td>0.1195</td>\n",
       "      <td>1.3832</td>\n",
       "      <td>0.0042</td>\n",
       "      <td>0.0023</td>\n",
       "      <td>...</td>\n",
       "      <td>23.4054</td>\n",
       "      <td>0.4993</td>\n",
       "      <td>0.0130</td>\n",
       "      <td>0.0037</td>\n",
       "      <td>2.5976</td>\n",
       "      <td>0.009700</td>\n",
       "      <td>0.017200</td>\n",
       "      <td>0.00540</td>\n",
       "      <td>176.678300</td>\n",
       "      <td>-1.0</td>\n",
       "    </tr>\n",
       "    <tr>\n",
       "      <th>1544</th>\n",
       "      <td>3076.33</td>\n",
       "      <td>2456.13</td>\n",
       "      <td>2217.4111</td>\n",
       "      <td>1032.2836</td>\n",
       "      <td>1.4802</td>\n",
       "      <td>101.3511</td>\n",
       "      <td>0.1195</td>\n",
       "      <td>1.3120</td>\n",
       "      <td>-0.0043</td>\n",
       "      <td>-0.0063</td>\n",
       "      <td>...</td>\n",
       "      <td>22.9183</td>\n",
       "      <td>0.4960</td>\n",
       "      <td>0.0157</td>\n",
       "      <td>0.0036</td>\n",
       "      <td>3.1743</td>\n",
       "      <td>0.015000</td>\n",
       "      <td>0.017600</td>\n",
       "      <td>0.00570</td>\n",
       "      <td>117.456400</td>\n",
       "      <td>-1.0</td>\n",
       "    </tr>\n",
       "    <tr>\n",
       "      <th>1545</th>\n",
       "      <td>2899.41</td>\n",
       "      <td>2464.36</td>\n",
       "      <td>2179.7333</td>\n",
       "      <td>3085.3781</td>\n",
       "      <td>1.4843</td>\n",
       "      <td>82.2467</td>\n",
       "      <td>0.1248</td>\n",
       "      <td>1.3424</td>\n",
       "      <td>-0.0045</td>\n",
       "      <td>-0.0057</td>\n",
       "      <td>...</td>\n",
       "      <td>11.7256</td>\n",
       "      <td>0.4988</td>\n",
       "      <td>0.0143</td>\n",
       "      <td>0.0039</td>\n",
       "      <td>2.8669</td>\n",
       "      <td>0.006800</td>\n",
       "      <td>0.013800</td>\n",
       "      <td>0.00470</td>\n",
       "      <td>203.172000</td>\n",
       "      <td>-1.0</td>\n",
       "    </tr>\n",
       "    <tr>\n",
       "      <th>1546</th>\n",
       "      <td>3052.31</td>\n",
       "      <td>2522.55</td>\n",
       "      <td>2198.5667</td>\n",
       "      <td>1124.6595</td>\n",
       "      <td>0.8763</td>\n",
       "      <td>98.4689</td>\n",
       "      <td>0.1205</td>\n",
       "      <td>1.4333</td>\n",
       "      <td>-0.0061</td>\n",
       "      <td>-0.0093</td>\n",
       "      <td>...</td>\n",
       "      <td>17.8379</td>\n",
       "      <td>0.4975</td>\n",
       "      <td>0.0131</td>\n",
       "      <td>0.0036</td>\n",
       "      <td>2.6238</td>\n",
       "      <td>0.006800</td>\n",
       "      <td>0.013800</td>\n",
       "      <td>0.00470</td>\n",
       "      <td>203.172000</td>\n",
       "      <td>-1.0</td>\n",
       "    </tr>\n",
       "  </tbody>\n",
       "</table>\n",
       "<p>1547 rows × 413 columns</p>\n",
       "</div>"
      ],
      "text/plain": [
       "          0        1          2          3       4         6       7    \\\n",
       "0     3030.93  2564.00  2187.7333  1411.1265  1.3602   97.6133  0.1242   \n",
       "1     3095.78  2465.14  2230.4222  1463.6606  0.8294  102.3433  0.1247   \n",
       "2     2932.61  2559.94  2186.4111  1698.0172  1.5102   95.4878  0.1241   \n",
       "3     2988.72  2479.90  2199.0333   909.7926  1.3204  104.2367  0.1217   \n",
       "4     3032.24  2502.87  2233.3667  1326.5200  1.5334  100.3967  0.1235   \n",
       "...       ...      ...        ...        ...     ...       ...     ...   \n",
       "1542  3072.10  2534.87  2177.4333  2945.8855  1.3321   83.1700  0.1253   \n",
       "1543  3012.30  2466.84  2217.4111  1032.2836  1.4802  101.3511  0.1195   \n",
       "1544  3076.33  2456.13  2217.4111  1032.2836  1.4802  101.3511  0.1195   \n",
       "1545  2899.41  2464.36  2179.7333  3085.3781  1.4843   82.2467  0.1248   \n",
       "1546  3052.31  2522.55  2198.5667  1124.6595  0.8763   98.4689  0.1205   \n",
       "\n",
       "         8       9       10   ...      425     426     427     428     429  \\\n",
       "0     1.5005  0.0162 -0.0034  ...  14.9509  0.5005  0.0118  0.0035  2.3630   \n",
       "1     1.4966 -0.0005 -0.0148  ...  10.9003  0.5019  0.0223  0.0055  4.4447   \n",
       "2     1.4436  0.0041  0.0013  ...   9.2721  0.4958  0.0157  0.0039  3.1745   \n",
       "3     1.4882 -0.0124 -0.0033  ...   8.5831  0.4990  0.0103  0.0025  2.0544   \n",
       "4     1.5031 -0.0031 -0.0072  ...  10.9698  0.4800     NaN     NaN     NaN   \n",
       "...      ...     ...     ...  ...      ...     ...     ...     ...     ...   \n",
       "1542  1.4359 -0.0114  0.0096  ...  12.8330  0.5010  0.0132  0.0035  2.6249   \n",
       "1543  1.3832  0.0042  0.0023  ...  23.4054  0.4993  0.0130  0.0037  2.5976   \n",
       "1544  1.3120 -0.0043 -0.0063  ...  22.9183  0.4960  0.0157  0.0036  3.1743   \n",
       "1545  1.3424 -0.0045 -0.0057  ...  11.7256  0.4988  0.0143  0.0039  2.8669   \n",
       "1546  1.4333 -0.0061 -0.0093  ...  17.8379  0.4975  0.0131  0.0036  2.6238   \n",
       "\n",
       "           430       431      432         433  434  \n",
       "0     0.021537  0.016617  0.00561   81.274442 -1.0  \n",
       "1     0.009600  0.020100  0.00600  208.204500 -1.0  \n",
       "2     0.058400  0.048400  0.01480   82.860200  1.0  \n",
       "3     0.020200  0.014900  0.00440   73.843200 -1.0  \n",
       "4     0.020200  0.014900  0.00440   73.843200 -1.0  \n",
       "...        ...       ...      ...         ...  ...  \n",
       "1542  0.027700  0.007400  0.00230   26.733000 -1.0  \n",
       "1543  0.009700  0.017200  0.00540  176.678300 -1.0  \n",
       "1544  0.015000  0.017600  0.00570  117.456400 -1.0  \n",
       "1545  0.006800  0.013800  0.00470  203.172000 -1.0  \n",
       "1546  0.006800  0.013800  0.00470  203.172000 -1.0  \n",
       "\n",
       "[1547 rows x 413 columns]"
      ]
     },
     "execution_count": 20,
     "metadata": {},
     "output_type": "execute_result"
    }
   ],
   "source": [
    "# 제거된 데이터는 null값이 되는것을 확인할 수 있다.\n",
    "df2 = boxplot_outlier(df1)\n",
    "df2"
   ]
  },
  {
   "cell_type": "code",
   "execution_count": 21,
   "metadata": {},
   "outputs": [
    {
     "data": {
      "text/html": [
       "<div>\n",
       "<style scoped>\n",
       "    .dataframe tbody tr th:only-of-type {\n",
       "        vertical-align: middle;\n",
       "    }\n",
       "\n",
       "    .dataframe tbody tr th {\n",
       "        vertical-align: top;\n",
       "    }\n",
       "\n",
       "    .dataframe thead th {\n",
       "        text-align: right;\n",
       "    }\n",
       "</style>\n",
       "<table border=\"1\" class=\"dataframe\">\n",
       "  <thead>\n",
       "    <tr style=\"text-align: right;\">\n",
       "      <th></th>\n",
       "      <th>0</th>\n",
       "      <th>1</th>\n",
       "      <th>2</th>\n",
       "      <th>3</th>\n",
       "      <th>4</th>\n",
       "      <th>5</th>\n",
       "      <th>6</th>\n",
       "      <th>7</th>\n",
       "      <th>8</th>\n",
       "      <th>9</th>\n",
       "      <th>...</th>\n",
       "      <th>403</th>\n",
       "      <th>404</th>\n",
       "      <th>405</th>\n",
       "      <th>406</th>\n",
       "      <th>407</th>\n",
       "      <th>408</th>\n",
       "      <th>409</th>\n",
       "      <th>410</th>\n",
       "      <th>411</th>\n",
       "      <th>412</th>\n",
       "    </tr>\n",
       "  </thead>\n",
       "  <tbody>\n",
       "    <tr>\n",
       "      <th>0</th>\n",
       "      <td>3030.93</td>\n",
       "      <td>2564.00</td>\n",
       "      <td>2187.7333</td>\n",
       "      <td>1411.1265</td>\n",
       "      <td>1.3602</td>\n",
       "      <td>97.6133</td>\n",
       "      <td>0.1242</td>\n",
       "      <td>1.5005</td>\n",
       "      <td>0.0162</td>\n",
       "      <td>-0.0034</td>\n",
       "      <td>...</td>\n",
       "      <td>14.9509</td>\n",
       "      <td>0.5005</td>\n",
       "      <td>0.011800</td>\n",
       "      <td>0.00350</td>\n",
       "      <td>2.363000</td>\n",
       "      <td>0.021537</td>\n",
       "      <td>0.016617</td>\n",
       "      <td>0.00561</td>\n",
       "      <td>81.274442</td>\n",
       "      <td>-1.0</td>\n",
       "    </tr>\n",
       "    <tr>\n",
       "      <th>1</th>\n",
       "      <td>3095.78</td>\n",
       "      <td>2465.14</td>\n",
       "      <td>2230.4222</td>\n",
       "      <td>1463.6606</td>\n",
       "      <td>0.8294</td>\n",
       "      <td>102.3433</td>\n",
       "      <td>0.1247</td>\n",
       "      <td>1.4966</td>\n",
       "      <td>-0.0005</td>\n",
       "      <td>-0.0148</td>\n",
       "      <td>...</td>\n",
       "      <td>10.9003</td>\n",
       "      <td>0.5019</td>\n",
       "      <td>0.022300</td>\n",
       "      <td>0.00550</td>\n",
       "      <td>4.444700</td>\n",
       "      <td>0.009600</td>\n",
       "      <td>0.020100</td>\n",
       "      <td>0.00600</td>\n",
       "      <td>208.204500</td>\n",
       "      <td>-1.0</td>\n",
       "    </tr>\n",
       "    <tr>\n",
       "      <th>2</th>\n",
       "      <td>2932.61</td>\n",
       "      <td>2559.94</td>\n",
       "      <td>2186.4111</td>\n",
       "      <td>1698.0172</td>\n",
       "      <td>1.5102</td>\n",
       "      <td>95.4878</td>\n",
       "      <td>0.1241</td>\n",
       "      <td>1.4436</td>\n",
       "      <td>0.0041</td>\n",
       "      <td>0.0013</td>\n",
       "      <td>...</td>\n",
       "      <td>9.2721</td>\n",
       "      <td>0.4958</td>\n",
       "      <td>0.015700</td>\n",
       "      <td>0.00390</td>\n",
       "      <td>3.174500</td>\n",
       "      <td>0.058400</td>\n",
       "      <td>0.048400</td>\n",
       "      <td>0.01480</td>\n",
       "      <td>82.860200</td>\n",
       "      <td>1.0</td>\n",
       "    </tr>\n",
       "    <tr>\n",
       "      <th>3</th>\n",
       "      <td>2988.72</td>\n",
       "      <td>2479.90</td>\n",
       "      <td>2199.0333</td>\n",
       "      <td>909.7926</td>\n",
       "      <td>1.3204</td>\n",
       "      <td>104.2367</td>\n",
       "      <td>0.1217</td>\n",
       "      <td>1.4882</td>\n",
       "      <td>-0.0124</td>\n",
       "      <td>-0.0033</td>\n",
       "      <td>...</td>\n",
       "      <td>8.5831</td>\n",
       "      <td>0.4990</td>\n",
       "      <td>0.010300</td>\n",
       "      <td>0.00250</td>\n",
       "      <td>2.054400</td>\n",
       "      <td>0.020200</td>\n",
       "      <td>0.014900</td>\n",
       "      <td>0.00440</td>\n",
       "      <td>73.843200</td>\n",
       "      <td>-1.0</td>\n",
       "    </tr>\n",
       "    <tr>\n",
       "      <th>4</th>\n",
       "      <td>3032.24</td>\n",
       "      <td>2502.87</td>\n",
       "      <td>2233.3667</td>\n",
       "      <td>1326.5200</td>\n",
       "      <td>1.5334</td>\n",
       "      <td>100.3967</td>\n",
       "      <td>0.1235</td>\n",
       "      <td>1.5031</td>\n",
       "      <td>-0.0031</td>\n",
       "      <td>-0.0072</td>\n",
       "      <td>...</td>\n",
       "      <td>10.9698</td>\n",
       "      <td>0.4800</td>\n",
       "      <td>0.014886</td>\n",
       "      <td>0.00365</td>\n",
       "      <td>2.995584</td>\n",
       "      <td>0.020200</td>\n",
       "      <td>0.014900</td>\n",
       "      <td>0.00440</td>\n",
       "      <td>73.843200</td>\n",
       "      <td>-1.0</td>\n",
       "    </tr>\n",
       "    <tr>\n",
       "      <th>...</th>\n",
       "      <td>...</td>\n",
       "      <td>...</td>\n",
       "      <td>...</td>\n",
       "      <td>...</td>\n",
       "      <td>...</td>\n",
       "      <td>...</td>\n",
       "      <td>...</td>\n",
       "      <td>...</td>\n",
       "      <td>...</td>\n",
       "      <td>...</td>\n",
       "      <td>...</td>\n",
       "      <td>...</td>\n",
       "      <td>...</td>\n",
       "      <td>...</td>\n",
       "      <td>...</td>\n",
       "      <td>...</td>\n",
       "      <td>...</td>\n",
       "      <td>...</td>\n",
       "      <td>...</td>\n",
       "      <td>...</td>\n",
       "      <td>...</td>\n",
       "    </tr>\n",
       "    <tr>\n",
       "      <th>1542</th>\n",
       "      <td>3072.10</td>\n",
       "      <td>2534.87</td>\n",
       "      <td>2177.4333</td>\n",
       "      <td>2945.8855</td>\n",
       "      <td>1.3321</td>\n",
       "      <td>83.1700</td>\n",
       "      <td>0.1253</td>\n",
       "      <td>1.4359</td>\n",
       "      <td>-0.0114</td>\n",
       "      <td>0.0096</td>\n",
       "      <td>...</td>\n",
       "      <td>12.8330</td>\n",
       "      <td>0.5010</td>\n",
       "      <td>0.013200</td>\n",
       "      <td>0.00350</td>\n",
       "      <td>2.624900</td>\n",
       "      <td>0.027700</td>\n",
       "      <td>0.007400</td>\n",
       "      <td>0.00230</td>\n",
       "      <td>26.733000</td>\n",
       "      <td>-1.0</td>\n",
       "    </tr>\n",
       "    <tr>\n",
       "      <th>1543</th>\n",
       "      <td>3012.30</td>\n",
       "      <td>2466.84</td>\n",
       "      <td>2217.4111</td>\n",
       "      <td>1032.2836</td>\n",
       "      <td>1.4802</td>\n",
       "      <td>101.3511</td>\n",
       "      <td>0.1195</td>\n",
       "      <td>1.3832</td>\n",
       "      <td>0.0042</td>\n",
       "      <td>0.0023</td>\n",
       "      <td>...</td>\n",
       "      <td>23.4054</td>\n",
       "      <td>0.4993</td>\n",
       "      <td>0.013000</td>\n",
       "      <td>0.00370</td>\n",
       "      <td>2.597600</td>\n",
       "      <td>0.009700</td>\n",
       "      <td>0.017200</td>\n",
       "      <td>0.00540</td>\n",
       "      <td>176.678300</td>\n",
       "      <td>-1.0</td>\n",
       "    </tr>\n",
       "    <tr>\n",
       "      <th>1544</th>\n",
       "      <td>3076.33</td>\n",
       "      <td>2456.13</td>\n",
       "      <td>2217.4111</td>\n",
       "      <td>1032.2836</td>\n",
       "      <td>1.4802</td>\n",
       "      <td>101.3511</td>\n",
       "      <td>0.1195</td>\n",
       "      <td>1.3120</td>\n",
       "      <td>-0.0043</td>\n",
       "      <td>-0.0063</td>\n",
       "      <td>...</td>\n",
       "      <td>22.9183</td>\n",
       "      <td>0.4960</td>\n",
       "      <td>0.015700</td>\n",
       "      <td>0.00360</td>\n",
       "      <td>3.174300</td>\n",
       "      <td>0.015000</td>\n",
       "      <td>0.017600</td>\n",
       "      <td>0.00570</td>\n",
       "      <td>117.456400</td>\n",
       "      <td>-1.0</td>\n",
       "    </tr>\n",
       "    <tr>\n",
       "      <th>1545</th>\n",
       "      <td>2899.41</td>\n",
       "      <td>2464.36</td>\n",
       "      <td>2179.7333</td>\n",
       "      <td>3085.3781</td>\n",
       "      <td>1.4843</td>\n",
       "      <td>82.2467</td>\n",
       "      <td>0.1248</td>\n",
       "      <td>1.3424</td>\n",
       "      <td>-0.0045</td>\n",
       "      <td>-0.0057</td>\n",
       "      <td>...</td>\n",
       "      <td>11.7256</td>\n",
       "      <td>0.4988</td>\n",
       "      <td>0.014300</td>\n",
       "      <td>0.00390</td>\n",
       "      <td>2.866900</td>\n",
       "      <td>0.006800</td>\n",
       "      <td>0.013800</td>\n",
       "      <td>0.00470</td>\n",
       "      <td>203.172000</td>\n",
       "      <td>-1.0</td>\n",
       "    </tr>\n",
       "    <tr>\n",
       "      <th>1546</th>\n",
       "      <td>3052.31</td>\n",
       "      <td>2522.55</td>\n",
       "      <td>2198.5667</td>\n",
       "      <td>1124.6595</td>\n",
       "      <td>0.8763</td>\n",
       "      <td>98.4689</td>\n",
       "      <td>0.1205</td>\n",
       "      <td>1.4333</td>\n",
       "      <td>-0.0061</td>\n",
       "      <td>-0.0093</td>\n",
       "      <td>...</td>\n",
       "      <td>17.8379</td>\n",
       "      <td>0.4975</td>\n",
       "      <td>0.013100</td>\n",
       "      <td>0.00360</td>\n",
       "      <td>2.623800</td>\n",
       "      <td>0.006800</td>\n",
       "      <td>0.013800</td>\n",
       "      <td>0.00470</td>\n",
       "      <td>203.172000</td>\n",
       "      <td>-1.0</td>\n",
       "    </tr>\n",
       "  </tbody>\n",
       "</table>\n",
       "<p>1547 rows × 413 columns</p>\n",
       "</div>"
      ],
      "text/plain": [
       "          0        1          2          3       4         5       6    \\\n",
       "0     3030.93  2564.00  2187.7333  1411.1265  1.3602   97.6133  0.1242   \n",
       "1     3095.78  2465.14  2230.4222  1463.6606  0.8294  102.3433  0.1247   \n",
       "2     2932.61  2559.94  2186.4111  1698.0172  1.5102   95.4878  0.1241   \n",
       "3     2988.72  2479.90  2199.0333   909.7926  1.3204  104.2367  0.1217   \n",
       "4     3032.24  2502.87  2233.3667  1326.5200  1.5334  100.3967  0.1235   \n",
       "...       ...      ...        ...        ...     ...       ...     ...   \n",
       "1542  3072.10  2534.87  2177.4333  2945.8855  1.3321   83.1700  0.1253   \n",
       "1543  3012.30  2466.84  2217.4111  1032.2836  1.4802  101.3511  0.1195   \n",
       "1544  3076.33  2456.13  2217.4111  1032.2836  1.4802  101.3511  0.1195   \n",
       "1545  2899.41  2464.36  2179.7333  3085.3781  1.4843   82.2467  0.1248   \n",
       "1546  3052.31  2522.55  2198.5667  1124.6595  0.8763   98.4689  0.1205   \n",
       "\n",
       "         7       8       9    ...      403     404       405      406  \\\n",
       "0     1.5005  0.0162 -0.0034  ...  14.9509  0.5005  0.011800  0.00350   \n",
       "1     1.4966 -0.0005 -0.0148  ...  10.9003  0.5019  0.022300  0.00550   \n",
       "2     1.4436  0.0041  0.0013  ...   9.2721  0.4958  0.015700  0.00390   \n",
       "3     1.4882 -0.0124 -0.0033  ...   8.5831  0.4990  0.010300  0.00250   \n",
       "4     1.5031 -0.0031 -0.0072  ...  10.9698  0.4800  0.014886  0.00365   \n",
       "...      ...     ...     ...  ...      ...     ...       ...      ...   \n",
       "1542  1.4359 -0.0114  0.0096  ...  12.8330  0.5010  0.013200  0.00350   \n",
       "1543  1.3832  0.0042  0.0023  ...  23.4054  0.4993  0.013000  0.00370   \n",
       "1544  1.3120 -0.0043 -0.0063  ...  22.9183  0.4960  0.015700  0.00360   \n",
       "1545  1.3424 -0.0045 -0.0057  ...  11.7256  0.4988  0.014300  0.00390   \n",
       "1546  1.4333 -0.0061 -0.0093  ...  17.8379  0.4975  0.013100  0.00360   \n",
       "\n",
       "           407       408       409      410         411  412  \n",
       "0     2.363000  0.021537  0.016617  0.00561   81.274442 -1.0  \n",
       "1     4.444700  0.009600  0.020100  0.00600  208.204500 -1.0  \n",
       "2     3.174500  0.058400  0.048400  0.01480   82.860200  1.0  \n",
       "3     2.054400  0.020200  0.014900  0.00440   73.843200 -1.0  \n",
       "4     2.995584  0.020200  0.014900  0.00440   73.843200 -1.0  \n",
       "...        ...       ...       ...      ...         ...  ...  \n",
       "1542  2.624900  0.027700  0.007400  0.00230   26.733000 -1.0  \n",
       "1543  2.597600  0.009700  0.017200  0.00540  176.678300 -1.0  \n",
       "1544  3.174300  0.015000  0.017600  0.00570  117.456400 -1.0  \n",
       "1545  2.866900  0.006800  0.013800  0.00470  203.172000 -1.0  \n",
       "1546  2.623800  0.006800  0.013800  0.00470  203.172000 -1.0  \n",
       "\n",
       "[1547 rows x 413 columns]"
      ]
     },
     "execution_count": 21,
     "metadata": {},
     "output_type": "execute_result"
    }
   ],
   "source": [
    "# null 값을 KNN Imputer로 채워준다.\n",
    "imputer = KNNImputer(n_neighbors = 3, weights = 'distance')\n",
    "df2 = pd.DataFrame(imputer.fit_transform(df2))\n",
    "df2"
   ]
  },
  {
   "cell_type": "code",
   "execution_count": 22,
   "metadata": {},
   "outputs": [],
   "source": [
    "# x와 y를 분리해준다.\n",
    "x = df2.iloc[:,:-1]\n",
    "y = df2.iloc[:,-1]"
   ]
  },
  {
   "cell_type": "code",
   "execution_count": 23,
   "metadata": {},
   "outputs": [
    {
     "name": "stdout",
     "output_type": "stream",
     "text": [
      "103\n",
      "1444\n"
     ]
    }
   ],
   "source": [
    "# class는 1과 -1로 구분되어져있는데 1의 비율이 상당히 적다.\n",
    "# 그렇기 때문에 오버샘플링으로 1의 비율을 늘려주도록 한다.\n",
    "print(list(y).count(1))\n",
    "print(list(y).count(-1))"
   ]
  },
  {
   "cell_type": "code",
   "execution_count": 24,
   "metadata": {},
   "outputs": [
    {
     "name": "stdout",
     "output_type": "stream",
     "text": [
      "(2888, 412)\n",
      "1444\n",
      "1444\n"
     ]
    }
   ],
   "source": [
    "# smote를 사용하여 오버샘플링으로 1과 -1의 비율을 맞춰주도록한다.\n",
    "# smote는 overfitting을 방지하는 \n",
    "x_samp, y_samp = SMOTE(random_state=0).fit_sample(x, y)\n",
    "print(np.shape(x_samp))\n",
    "print(list(y_samp).count(1))\n",
    "print(list(y_samp).count(-1))"
   ]
  },
  {
   "cell_type": "code",
   "execution_count": 25,
   "metadata": {
    "scrolled": true
   },
   "outputs": [
    {
     "data": {
      "text/html": [
       "<div>\n",
       "<style scoped>\n",
       "    .dataframe tbody tr th:only-of-type {\n",
       "        vertical-align: middle;\n",
       "    }\n",
       "\n",
       "    .dataframe tbody tr th {\n",
       "        vertical-align: top;\n",
       "    }\n",
       "\n",
       "    .dataframe thead th {\n",
       "        text-align: right;\n",
       "    }\n",
       "</style>\n",
       "<table border=\"1\" class=\"dataframe\">\n",
       "  <thead>\n",
       "    <tr style=\"text-align: right;\">\n",
       "      <th></th>\n",
       "      <th>0</th>\n",
       "      <th>1</th>\n",
       "      <th>2</th>\n",
       "      <th>3</th>\n",
       "      <th>4</th>\n",
       "      <th>5</th>\n",
       "      <th>6</th>\n",
       "      <th>7</th>\n",
       "      <th>8</th>\n",
       "      <th>9</th>\n",
       "      <th>...</th>\n",
       "      <th>402</th>\n",
       "      <th>403</th>\n",
       "      <th>404</th>\n",
       "      <th>405</th>\n",
       "      <th>406</th>\n",
       "      <th>407</th>\n",
       "      <th>408</th>\n",
       "      <th>409</th>\n",
       "      <th>410</th>\n",
       "      <th>411</th>\n",
       "    </tr>\n",
       "  </thead>\n",
       "  <tbody>\n",
       "    <tr>\n",
       "      <th>0</th>\n",
       "      <td>0.310400</td>\n",
       "      <td>0.965291</td>\n",
       "      <td>-0.473467</td>\n",
       "      <td>0.068112</td>\n",
       "      <td>0.108994</td>\n",
       "      <td>-0.670805</td>\n",
       "      <td>1.046604</td>\n",
       "      <td>0.520729</td>\n",
       "      <td>1.320788</td>\n",
       "      <td>-0.457620</td>\n",
       "      <td>...</td>\n",
       "      <td>0.157577</td>\n",
       "      <td>0.176060</td>\n",
       "      <td>0.060934</td>\n",
       "      <td>-0.671171</td>\n",
       "      <td>-0.295988</td>\n",
       "      <td>-0.665064</td>\n",
       "      <td>-0.009747</td>\n",
       "      <td>-0.030743</td>\n",
       "      <td>0.085613</td>\n",
       "      <td>-0.192683</td>\n",
       "    </tr>\n",
       "    <tr>\n",
       "      <th>1</th>\n",
       "      <td>1.228808</td>\n",
       "      <td>-0.417214</td>\n",
       "      <td>1.073498</td>\n",
       "      <td>0.207959</td>\n",
       "      <td>-1.385005</td>\n",
       "      <td>0.218823</td>\n",
       "      <td>1.328376</td>\n",
       "      <td>0.459398</td>\n",
       "      <td>0.075101</td>\n",
       "      <td>-1.786682</td>\n",
       "      <td>...</td>\n",
       "      <td>-1.723866</td>\n",
       "      <td>-0.769126</td>\n",
       "      <td>0.491126</td>\n",
       "      <td>1.504059</td>\n",
       "      <td>1.717806</td>\n",
       "      <td>1.481432</td>\n",
       "      <td>-1.082540</td>\n",
       "      <td>0.402604</td>\n",
       "      <td>0.238950</td>\n",
       "      <td>1.524730</td>\n",
       "    </tr>\n",
       "    <tr>\n",
       "      <th>2</th>\n",
       "      <td>-1.082011</td>\n",
       "      <td>0.908514</td>\n",
       "      <td>-0.521381</td>\n",
       "      <td>0.831824</td>\n",
       "      <td>0.531187</td>\n",
       "      <td>-1.070574</td>\n",
       "      <td>0.990250</td>\n",
       "      <td>-0.374076</td>\n",
       "      <td>0.418224</td>\n",
       "      <td>0.090327</td>\n",
       "      <td>...</td>\n",
       "      <td>1.539611</td>\n",
       "      <td>-1.149058</td>\n",
       "      <td>-1.383282</td>\n",
       "      <td>0.136772</td>\n",
       "      <td>0.106771</td>\n",
       "      <td>0.171696</td>\n",
       "      <td>3.303199</td>\n",
       "      <td>3.924125</td>\n",
       "      <td>3.698024</td>\n",
       "      <td>-0.171227</td>\n",
       "    </tr>\n",
       "    <tr>\n",
       "      <th>3</th>\n",
       "      <td>-0.287380</td>\n",
       "      <td>-0.210803</td>\n",
       "      <td>-0.063977</td>\n",
       "      <td>-1.266455</td>\n",
       "      <td>-0.003028</td>\n",
       "      <td>0.574938</td>\n",
       "      <td>-0.362254</td>\n",
       "      <td>0.327300</td>\n",
       "      <td>-0.812544</td>\n",
       "      <td>-0.445961</td>\n",
       "      <td>...</td>\n",
       "      <td>0.428240</td>\n",
       "      <td>-1.309832</td>\n",
       "      <td>-0.399986</td>\n",
       "      <td>-0.981918</td>\n",
       "      <td>-1.302884</td>\n",
       "      <td>-0.983269</td>\n",
       "      <td>-0.129900</td>\n",
       "      <td>-0.244460</td>\n",
       "      <td>-0.389972</td>\n",
       "      <td>-0.293231</td>\n",
       "    </tr>\n",
       "    <tr>\n",
       "      <th>4</th>\n",
       "      <td>0.328952</td>\n",
       "      <td>0.110420</td>\n",
       "      <td>1.180201</td>\n",
       "      <td>-0.157113</td>\n",
       "      <td>0.596486</td>\n",
       "      <td>-0.147298</td>\n",
       "      <td>0.652124</td>\n",
       "      <td>0.561616</td>\n",
       "      <td>-0.118838</td>\n",
       "      <td>-0.900641</td>\n",
       "      <td>...</td>\n",
       "      <td>0.102123</td>\n",
       "      <td>-0.752909</td>\n",
       "      <td>-6.238307</td>\n",
       "      <td>-0.031794</td>\n",
       "      <td>-0.145445</td>\n",
       "      <td>-0.012789</td>\n",
       "      <td>-0.129900</td>\n",
       "      <td>-0.244460</td>\n",
       "      <td>-0.389972</td>\n",
       "      <td>-0.293231</td>\n",
       "    </tr>\n",
       "    <tr>\n",
       "      <th>...</th>\n",
       "      <td>...</td>\n",
       "      <td>...</td>\n",
       "      <td>...</td>\n",
       "      <td>...</td>\n",
       "      <td>...</td>\n",
       "      <td>...</td>\n",
       "      <td>...</td>\n",
       "      <td>...</td>\n",
       "      <td>...</td>\n",
       "      <td>...</td>\n",
       "      <td>...</td>\n",
       "      <td>...</td>\n",
       "      <td>...</td>\n",
       "      <td>...</td>\n",
       "      <td>...</td>\n",
       "      <td>...</td>\n",
       "      <td>...</td>\n",
       "      <td>...</td>\n",
       "      <td>...</td>\n",
       "      <td>...</td>\n",
       "      <td>...</td>\n",
       "    </tr>\n",
       "    <tr>\n",
       "      <th>2883</th>\n",
       "      <td>-0.205216</td>\n",
       "      <td>0.041597</td>\n",
       "      <td>0.675179</td>\n",
       "      <td>0.590613</td>\n",
       "      <td>0.698162</td>\n",
       "      <td>-0.658839</td>\n",
       "      <td>-0.953946</td>\n",
       "      <td>-0.805023</td>\n",
       "      <td>0.221969</td>\n",
       "      <td>-1.712267</td>\n",
       "      <td>...</td>\n",
       "      <td>-0.780993</td>\n",
       "      <td>-0.581544</td>\n",
       "      <td>0.592791</td>\n",
       "      <td>-0.324092</td>\n",
       "      <td>-0.484718</td>\n",
       "      <td>-0.332524</td>\n",
       "      <td>-1.714343</td>\n",
       "      <td>-0.781833</td>\n",
       "      <td>-0.780560</td>\n",
       "      <td>1.601621</td>\n",
       "    </tr>\n",
       "    <tr>\n",
       "      <th>2884</th>\n",
       "      <td>-0.659054</td>\n",
       "      <td>0.849181</td>\n",
       "      <td>0.627202</td>\n",
       "      <td>0.471934</td>\n",
       "      <td>-0.185012</td>\n",
       "      <td>1.484023</td>\n",
       "      <td>-0.641655</td>\n",
       "      <td>1.075093</td>\n",
       "      <td>-0.946709</td>\n",
       "      <td>1.556370</td>\n",
       "      <td>...</td>\n",
       "      <td>1.918930</td>\n",
       "      <td>-1.038892</td>\n",
       "      <td>1.650974</td>\n",
       "      <td>0.607901</td>\n",
       "      <td>0.412881</td>\n",
       "      <td>0.555774</td>\n",
       "      <td>-0.312290</td>\n",
       "      <td>-0.548622</td>\n",
       "      <td>-0.271821</td>\n",
       "      <td>-0.309421</td>\n",
       "    </tr>\n",
       "    <tr>\n",
       "      <th>2885</th>\n",
       "      <td>-0.406024</td>\n",
       "      <td>-0.122486</td>\n",
       "      <td>0.262320</td>\n",
       "      <td>1.199615</td>\n",
       "      <td>0.619601</td>\n",
       "      <td>-0.243487</td>\n",
       "      <td>0.865756</td>\n",
       "      <td>0.110831</td>\n",
       "      <td>0.367132</td>\n",
       "      <td>-0.039981</td>\n",
       "      <td>...</td>\n",
       "      <td>1.109071</td>\n",
       "      <td>0.120820</td>\n",
       "      <td>-0.232687</td>\n",
       "      <td>-0.188326</td>\n",
       "      <td>0.006081</td>\n",
       "      <td>-0.185898</td>\n",
       "      <td>-0.655443</td>\n",
       "      <td>0.033035</td>\n",
       "      <td>-0.101463</td>\n",
       "      <td>0.348733</td>\n",
       "    </tr>\n",
       "    <tr>\n",
       "      <th>2886</th>\n",
       "      <td>-1.028352</td>\n",
       "      <td>1.321649</td>\n",
       "      <td>0.053029</td>\n",
       "      <td>-1.209651</td>\n",
       "      <td>0.025707</td>\n",
       "      <td>0.732552</td>\n",
       "      <td>-0.646085</td>\n",
       "      <td>0.293668</td>\n",
       "      <td>-0.010099</td>\n",
       "      <td>-1.525670</td>\n",
       "      <td>...</td>\n",
       "      <td>1.115234</td>\n",
       "      <td>-0.163638</td>\n",
       "      <td>1.257520</td>\n",
       "      <td>-1.132321</td>\n",
       "      <td>-1.167156</td>\n",
       "      <td>-1.149569</td>\n",
       "      <td>-0.455152</td>\n",
       "      <td>1.168541</td>\n",
       "      <td>1.086584</td>\n",
       "      <td>0.989565</td>\n",
       "    </tr>\n",
       "    <tr>\n",
       "      <th>2887</th>\n",
       "      <td>-0.946007</td>\n",
       "      <td>0.115704</td>\n",
       "      <td>-0.093939</td>\n",
       "      <td>-0.648125</td>\n",
       "      <td>-0.086007</td>\n",
       "      <td>1.890313</td>\n",
       "      <td>0.655585</td>\n",
       "      <td>0.117972</td>\n",
       "      <td>-0.276496</td>\n",
       "      <td>-0.067216</td>\n",
       "      <td>...</td>\n",
       "      <td>0.348031</td>\n",
       "      <td>1.042679</td>\n",
       "      <td>-0.178151</td>\n",
       "      <td>2.080850</td>\n",
       "      <td>1.633899</td>\n",
       "      <td>2.063254</td>\n",
       "      <td>-0.131633</td>\n",
       "      <td>0.311243</td>\n",
       "      <td>0.444454</td>\n",
       "      <td>-0.840787</td>\n",
       "    </tr>\n",
       "  </tbody>\n",
       "</table>\n",
       "<p>2888 rows × 412 columns</p>\n",
       "</div>"
      ],
      "text/plain": [
       "           0         1         2         3         4         5         6    \\\n",
       "0     0.310400  0.965291 -0.473467  0.068112  0.108994 -0.670805  1.046604   \n",
       "1     1.228808 -0.417214  1.073498  0.207959 -1.385005  0.218823  1.328376   \n",
       "2    -1.082011  0.908514 -0.521381  0.831824  0.531187 -1.070574  0.990250   \n",
       "3    -0.287380 -0.210803 -0.063977 -1.266455 -0.003028  0.574938 -0.362254   \n",
       "4     0.328952  0.110420  1.180201 -0.157113  0.596486 -0.147298  0.652124   \n",
       "...        ...       ...       ...       ...       ...       ...       ...   \n",
       "2883 -0.205216  0.041597  0.675179  0.590613  0.698162 -0.658839 -0.953946   \n",
       "2884 -0.659054  0.849181  0.627202  0.471934 -0.185012  1.484023 -0.641655   \n",
       "2885 -0.406024 -0.122486  0.262320  1.199615  0.619601 -0.243487  0.865756   \n",
       "2886 -1.028352  1.321649  0.053029 -1.209651  0.025707  0.732552 -0.646085   \n",
       "2887 -0.946007  0.115704 -0.093939 -0.648125 -0.086007  1.890313  0.655585   \n",
       "\n",
       "           7         8         9    ...       402       403       404  \\\n",
       "0     0.520729  1.320788 -0.457620  ...  0.157577  0.176060  0.060934   \n",
       "1     0.459398  0.075101 -1.786682  ... -1.723866 -0.769126  0.491126   \n",
       "2    -0.374076  0.418224  0.090327  ...  1.539611 -1.149058 -1.383282   \n",
       "3     0.327300 -0.812544 -0.445961  ...  0.428240 -1.309832 -0.399986   \n",
       "4     0.561616 -0.118838 -0.900641  ...  0.102123 -0.752909 -6.238307   \n",
       "...        ...       ...       ...  ...       ...       ...       ...   \n",
       "2883 -0.805023  0.221969 -1.712267  ... -0.780993 -0.581544  0.592791   \n",
       "2884  1.075093 -0.946709  1.556370  ...  1.918930 -1.038892  1.650974   \n",
       "2885  0.110831  0.367132 -0.039981  ...  1.109071  0.120820 -0.232687   \n",
       "2886  0.293668 -0.010099 -1.525670  ...  1.115234 -0.163638  1.257520   \n",
       "2887  0.117972 -0.276496 -0.067216  ...  0.348031  1.042679 -0.178151   \n",
       "\n",
       "           405       406       407       408       409       410       411  \n",
       "0    -0.671171 -0.295988 -0.665064 -0.009747 -0.030743  0.085613 -0.192683  \n",
       "1     1.504059  1.717806  1.481432 -1.082540  0.402604  0.238950  1.524730  \n",
       "2     0.136772  0.106771  0.171696  3.303199  3.924125  3.698024 -0.171227  \n",
       "3    -0.981918 -1.302884 -0.983269 -0.129900 -0.244460 -0.389972 -0.293231  \n",
       "4    -0.031794 -0.145445 -0.012789 -0.129900 -0.244460 -0.389972 -0.293231  \n",
       "...        ...       ...       ...       ...       ...       ...       ...  \n",
       "2883 -0.324092 -0.484718 -0.332524 -1.714343 -0.781833 -0.780560  1.601621  \n",
       "2884  0.607901  0.412881  0.555774 -0.312290 -0.548622 -0.271821 -0.309421  \n",
       "2885 -0.188326  0.006081 -0.185898 -0.655443  0.033035 -0.101463  0.348733  \n",
       "2886 -1.132321 -1.167156 -1.149569 -0.455152  1.168541  1.086584  0.989565  \n",
       "2887  2.080850  1.633899  2.063254 -0.131633  0.311243  0.444454 -0.840787  \n",
       "\n",
       "[2888 rows x 412 columns]"
      ]
     },
     "execution_count": 25,
     "metadata": {},
     "output_type": "execute_result"
    }
   ],
   "source": [
    "# StandardScaler를 이용하여 스케일링을 해준다.\n",
    "scaler = StandardScaler()\n",
    "scaled = scaler.fit_transform(x_samp)\n",
    "scaled = pd.DataFrame(scaled)\n",
    "scaled"
   ]
  },
  {
   "cell_type": "code",
   "execution_count": 26,
   "metadata": {
    "scrolled": false
   },
   "outputs": [
    {
     "data": {
      "image/png": "[encoded data removed]",
      "text/plain": [
       "<Figure size 432x288 with 2 Axes>"
      ]
     },
     "metadata": {
      "needs_background": "light"
     },
     "output_type": "display_data"
    }
   ],
   "source": [
    "# 히트맵을 이용하여 변수들간의 상관관계를 파악해보았다.\n",
    "# 하얀색에 가까울 수록 상관계수가 높다는 것인데 중간중간 하얀 대각 실선들이\n",
    "# 존재하는 것으로 보아 상관계수가 높은 변수들이 다수 존재하는 것으로 보인다.\n",
    "sns.heatmap(x.corr())\n",
    "plt.show()"
   ]
  },
  {
   "cell_type": "code",
   "execution_count": 27,
   "metadata": {
    "scrolled": true
   },
   "outputs": [],
   "source": [
    "# 변수가 많아 상관계수가 높은 변수들을 제거하기 힘들기 때문에\n",
    "# PCA를 이용하여 차원 축소를 하도록 한다.\n",
    "# pca = PCA(n_components=50)\n",
    "# model = pca.fit_transform(scaled)\n",
    "# x_pca = pd.DataFrame(model)\n",
    "# x_pca"
   ]
  },
  {
   "cell_type": "code",
   "execution_count": 28,
   "metadata": {},
   "outputs": [],
   "source": [
    "# 주성분이 가지는 퍼센트를 알아보자.\n",
    "# pca_fit = pca.fit(scaled)\n",
    "# print(\"percentage : \", pca_fit.explained_variance_ratio_)"
   ]
  },
  {
   "cell_type": "code",
   "execution_count": 29,
   "metadata": {},
   "outputs": [],
   "source": [
    "# train, test set을 7:3 비율로 나누어 준다.\n",
    "x_train, x_test, y_train, y_test = train_test_split(scaled, y_samp, test_size = 0.3, random_state = 3)"
   ]
  },
  {
   "cell_type": "code",
   "execution_count": 30,
   "metadata": {},
   "outputs": [],
   "source": [
    "def analysis(method):\n",
    "    model = method\n",
    "    model.fit(x_train, y_train)\n",
    "    pred = model.predict(x_test)\n",
    "    model_cv = cross_val_score(model, x_train, y_train, cv=5, scoring='accuracy')\n",
    "    pred_prob = model.predict_proba(x_test)\n",
    "    print('accuracy : ', accuracy_score(y_test, pred))\n",
    "    print('---------------------------------------------------------')\n",
    "    print('confusion_matrix : \\n', confusion_matrix(y_test, model.predict(x_test)))\n",
    "    print('---------------------------------------------------------')\n",
    "    print('classification_report : \\n', classification_report(y_test, model.predict(x_test)))\n",
    "    print('---------------------------------------------------------')\n",
    "    print('cross_val : \\n', model_cv)\n",
    "    print('---------------------------------------------------------')\n",
    "    skplt.metrics.plot_roc(y_test, pred_prob)\n",
    "    plt.show()"
   ]
  },
  {
   "cell_type": "code",
   "execution_count": 31,
   "metadata": {
    "scrolled": true
   },
   "outputs": [
    {
     "name": "stdout",
     "output_type": "stream",
     "text": [
      "accuracy :  0.9919261822376009\n",
      "---------------------------------------------------------\n",
      "confusion_matrix : \n",
      " [[441   4]\n",
      " [  3 419]]\n",
      "---------------------------------------------------------\n",
      "classification_report : \n",
      "               precision    recall  f1-score   support\n",
      "\n",
      "        -1.0       0.99      0.99      0.99       445\n",
      "         1.0       0.99      0.99      0.99       422\n",
      "\n",
      "    accuracy                           0.99       867\n",
      "   macro avg       0.99      0.99      0.99       867\n",
      "weighted avg       0.99      0.99      0.99       867\n",
      "\n",
      "---------------------------------------------------------\n",
      "cross_val : \n",
      " [0.99012346 0.9950495  0.99009901 0.98267327 0.98019802]\n",
      "---------------------------------------------------------\n"
     ]
    },
    {
     "data": {
      "image/png": "[encoded data removed]",
      "text/plain": [
       "<Figure size 432x288 with 1 Axes>"
      ]
     },
     "metadata": {
      "needs_background": "light"
     },
     "output_type": "display_data"
    }
   ],
   "source": [
    "# 랜덤포레스트 분류방법을 통해 정확도를 확인해보자.\n",
    "# 랜덤포레스트의 장점은 다중공선성의 영향을 받지 않는 점이다.\n",
    "# 이러한 점을 고려했을 때 \n",
    "# 약 99%로 아주 높게 나왔다.\n",
    "analysis(RandomForestClassifier())"
   ]
  },
  {
   "cell_type": "code",
   "execution_count": 32,
   "metadata": {},
   "outputs": [],
   "source": [
    "# param_range로 트리의 갯수를 다르게 하여 모델을 학습시킨다.\n",
    "# 랜덤포레스트에서 트리의 갯수는 중요한 하이퍼파라미터이다.\n",
    "param_range = np.arange(1, 100, 1)\n",
    "train_scores, test_scores = validation_curve(RandomForestClassifier(), scaled, y_samp, \n",
    "                                             param_name=\"n_estimators\", param_range=param_range,\n",
    "                                             cv=3, scoring=\"accuracy\", n_jobs=-1)"
   ]
  },
  {
   "cell_type": "code",
   "execution_count": 33,
   "metadata": {
    "scrolled": true
   },
   "outputs": [
    {
     "data": {
      "image/png": "[encoded data removed]",
      "text/plain": [
       "<Figure size 432x288 with 1 Axes>"
      ]
     },
     "metadata": {
      "needs_background": "light"
     },
     "output_type": "display_data"
    }
   ],
   "source": [
    "# 위의 정보를 가지고 train, test set의 accuracy 그래프를 그려보겠다.\n",
    "# 트리의 갯수가 40개 이상일 때 부터 정확도의 변동이 적고 train accuracy에 점점 수렴하는 것을 볼 수 있다.\n",
    "plt.plot(train_scores.mean(axis = 1))\n",
    "plt.plot(test_scores.mean(axis = 1))\n",
    "plt.title('Validation Curve with Random Forest', fontsize = 15)\n",
    "plt.xlabel('number of trees', fontsize = 13)\n",
    "plt.ylabel('accuracy score', fontsize = 13)\n",
    "plt.legend(['train', 'test'])\n",
    "plt.show()"
   ]
  },
  {
   "cell_type": "code",
   "execution_count": 34,
   "metadata": {
    "scrolled": true
   },
   "outputs": [
    {
     "name": "stdout",
     "output_type": "stream",
     "text": [
      "Fitting 3 folds for each of 288 candidates, totalling 864 fits\n"
     ]
    },
    {
     "name": "stderr",
     "output_type": "stream",
     "text": [
      "[Parallel(n_jobs=-1)]: Using backend LokyBackend with 12 concurrent workers.\n",
      "[Parallel(n_jobs=-1)]: Done  17 tasks      | elapsed:    3.6s\n",
      "[Parallel(n_jobs=-1)]: Done 138 tasks      | elapsed:   31.1s\n",
      "[Parallel(n_jobs=-1)]: Done 341 tasks      | elapsed:  1.3min\n",
      "[Parallel(n_jobs=-1)]: Done 624 tasks      | elapsed:  2.3min\n",
      "[Parallel(n_jobs=-1)]: Done 864 out of 864 | elapsed:  3.3min finished\n"
     ]
    },
    {
     "data": {
      "text/plain": [
       "{'bootstrap': True,\n",
       " 'max_depth': 100,\n",
       " 'max_features': 2,\n",
       " 'min_samples_leaf': 3,\n",
       " 'min_samples_split': 8,\n",
       " 'n_estimators': 300}"
      ]
     },
     "execution_count": 34,
     "metadata": {},
     "output_type": "execute_result"
    }
   ],
   "source": [
    "# 하이퍼 파라미터 조정하는 방법\n",
    "# 하이퍼 파라미터를 조정하기 위해서는 각 모델에 해당하는 하이퍼파라미터들을 알아야 한다.\n",
    "# GridSearchCV를 통해 가장 최적의 하이퍼파라미터를 뽑아낼 수 있다.\n",
    "# 각 하이퍼파라미터의 범위는 따로 설정을 해주어야하고 너무 경우의 수가 많아지면\n",
    "# 연산량이 기하급수적으로 늘어나기 때문에 효율적인 설정이 필요하다.\n",
    "# 아래는 트리 기반의 하이퍼파라미터이다.\n",
    "param_grid = {\n",
    "    'bootstrap': [True],\n",
    "    'max_depth': [80, 90, 100, 110],\n",
    "    'max_features': [2, 3],\n",
    "    'min_samples_leaf': [3, 4, 5],\n",
    "    'min_samples_split': [8, 10, 12],\n",
    "    'n_estimators': [100, 200, 300, 1000]\n",
    "}\n",
    "grid_search = GridSearchCV(estimator = RandomForestClassifier(), param_grid = param_grid, \n",
    "                          cv = 3, n_jobs = -1, verbose = 2)\n",
    "grid_search.fit(x_train, y_train)\n",
    "grid_search.best_params_"
   ]
  },
  {
   "cell_type": "code",
   "execution_count": 35,
   "metadata": {},
   "outputs": [
    {
     "name": "stdout",
     "output_type": "stream",
     "text": [
      "accuracy :  1.0\n",
      "---------------------------------------------------------\n",
      "confusion_matrix : \n",
      " [[445   0]\n",
      " [  0 422]]\n",
      "---------------------------------------------------------\n",
      "classification_report : \n",
      "               precision    recall  f1-score   support\n",
      "\n",
      "        -1.0       1.00      1.00      1.00       445\n",
      "         1.0       1.00      1.00      1.00       422\n",
      "\n",
      "    accuracy                           1.00       867\n",
      "   macro avg       1.00      1.00      1.00       867\n",
      "weighted avg       1.00      1.00      1.00       867\n",
      "\n",
      "---------------------------------------------------------\n",
      "cross_val : \n",
      " [1.         0.99752475 0.99257426 0.99257426 0.9950495 ]\n",
      "---------------------------------------------------------\n"
     ]
    },
    {
     "data": {
      "image/png": "[encoded data removed]",
      "text/plain": [
       "<Figure size 432x288 with 1 Axes>"
      ]
     },
     "metadata": {
      "needs_background": "light"
     },
     "output_type": "display_data"
    }
   ],
   "source": [
    "# ExtraTreeClassifier 모델도 트리 기반의 모델이기 때문에 랜덤포레스트의 하이퍼파라미터와 동일하다.\n",
    "analysis(ExtraTreesClassifier())"
   ]
  },
  {
   "cell_type": "code",
   "execution_count": 36,
   "metadata": {},
   "outputs": [],
   "source": [
    "param_range = np.arange(1, 100, 1)\n",
    "train_scores, test_scores = validation_curve(ExtraTreesClassifier(), scaled, y_samp, \n",
    "                                             param_name=\"n_estimators\", param_range=param_range,\n",
    "                                             cv=3, scoring=\"accuracy\", n_jobs=-1)"
   ]
  },
  {
   "cell_type": "code",
   "execution_count": 37,
   "metadata": {},
   "outputs": [
    {
     "data": {
      "image/png": "[encoded data removed]",
      "text/plain": [
       "<Figure size 432x288 with 1 Axes>"
      ]
     },
     "metadata": {
      "needs_background": "light"
     },
     "output_type": "display_data"
    }
   ],
   "source": [
    "plt.plot(train_scores.mean(axis = 1))\n",
    "plt.plot(test_scores.mean(axis = 1))\n",
    "plt.title('Validation Curve with ExtraTrees', fontsize = 15)\n",
    "plt.xlabel('number of trees', fontsize = 13)\n",
    "plt.ylabel('accuracy score', fontsize = 13)\n",
    "plt.legend(['train', 'test'])\n",
    "plt.show()"
   ]
  },
  {
   "cell_type": "code",
   "execution_count": 38,
   "metadata": {},
   "outputs": [
    {
     "name": "stdout",
     "output_type": "stream",
     "text": [
      "Fitting 3 folds for each of 216 candidates, totalling 648 fits\n"
     ]
    },
    {
     "name": "stderr",
     "output_type": "stream",
     "text": [
      "[Parallel(n_jobs=-1)]: Using backend LokyBackend with 12 concurrent workers.\n",
      "[Parallel(n_jobs=-1)]: Done  17 tasks      | elapsed:    3.3s\n",
      "[Parallel(n_jobs=-1)]: Done 138 tasks      | elapsed:   12.7s\n",
      "[Parallel(n_jobs=-1)]: Done 341 tasks      | elapsed:   25.0s\n",
      "[Parallel(n_jobs=-1)]: Done 624 tasks      | elapsed:   43.1s\n",
      "[Parallel(n_jobs=-1)]: Done 648 out of 648 | elapsed:   44.6s finished\n"
     ]
    },
    {
     "data": {
      "text/plain": [
       "{'bootstrap': True,\n",
       " 'max_depth': 110,\n",
       " 'max_features': 3,\n",
       " 'min_samples_leaf': 3,\n",
       " 'min_samples_split': 10,\n",
       " 'n_estimators': 300}"
      ]
     },
     "execution_count": 38,
     "metadata": {},
     "output_type": "execute_result"
    }
   ],
   "source": [
    "param_grid = {\n",
    "    'bootstrap': [True],\n",
    "    'max_depth': [80, 90, 100, 110],\n",
    "    'max_features': [2, 3],\n",
    "    'min_samples_leaf': [3, 4, 5],\n",
    "    'min_samples_split': [8, 10, 12],\n",
    "    'n_estimators': [100, 200, 300]\n",
    "}\n",
    "grid_search = GridSearchCV(estimator = ExtraTreesClassifier(), param_grid = param_grid, \n",
    "                          cv = 3, n_jobs = -1, verbose = 2)\n",
    "grid_search.fit(x_train, y_train)\n",
    "grid_search.best_params_"
   ]
  },
  {
   "cell_type": "code",
   "execution_count": 39,
   "metadata": {
    "scrolled": true
   },
   "outputs": [
    {
     "name": "stdout",
     "output_type": "stream",
     "text": [
      "accuracy :  0.8869665513264129\n",
      "---------------------------------------------------------\n",
      "confusion_matrix : \n",
      " [[349  96]\n",
      " [  2 420]]\n",
      "---------------------------------------------------------\n",
      "classification_report : \n",
      "               precision    recall  f1-score   support\n",
      "\n",
      "        -1.0       0.99      0.78      0.88       445\n",
      "         1.0       0.81      1.00      0.90       422\n",
      "\n",
      "    accuracy                           0.89       867\n",
      "   macro avg       0.90      0.89      0.89       867\n",
      "weighted avg       0.91      0.89      0.89       867\n",
      "\n",
      "---------------------------------------------------------\n",
      "cross_val : \n",
      " [0.9037037  0.8960396  0.90594059 0.89108911 0.87128713]\n",
      "---------------------------------------------------------\n"
     ]
    },
    {
     "data": {
      "image/png": "[encoded data removed]",
      "text/plain": [
       "<Figure size 432x288 with 1 Axes>"
      ]
     },
     "metadata": {
      "needs_background": "light"
     },
     "output_type": "display_data"
    }
   ],
   "source": [
    "# LDA는 조정할 하이퍼파라미터가 존재하지 않는다.\n",
    "analysis(LinearDiscriminantAnalysis())"
   ]
  },
  {
   "cell_type": "code",
   "execution_count": 40,
   "metadata": {
    "scrolled": true
   },
   "outputs": [
    {
     "name": "stdout",
     "output_type": "stream",
     "text": [
      "accuracy :  0.9988465974625144\n",
      "---------------------------------------------------------\n",
      "confusion_matrix : \n",
      " [[444   1]\n",
      " [  0 422]]\n",
      "---------------------------------------------------------\n",
      "classification_report : \n",
      "               precision    recall  f1-score   support\n",
      "\n",
      "        -1.0       1.00      1.00      1.00       445\n",
      "         1.0       1.00      1.00      1.00       422\n",
      "\n",
      "    accuracy                           1.00       867\n",
      "   macro avg       1.00      1.00      1.00       867\n",
      "weighted avg       1.00      1.00      1.00       867\n",
      "\n",
      "---------------------------------------------------------\n",
      "cross_val : \n",
      " [0.99753086 1.         0.9950495  0.98762376 0.99752475]\n",
      "---------------------------------------------------------\n"
     ]
    },
    {
     "data": {
      "image/png": "[encoded data removed]",
      "text/plain": [
       "<Figure size 432x288 with 1 Axes>"
      ]
     },
     "metadata": {
      "needs_background": "light"
     },
     "output_type": "display_data"
    }
   ],
   "source": [
    "# probability = True 는 predict_proba를 구하기 위해 필요하다.\n",
    "analysis(SVC(probability=True))"
   ]
  },
  {
   "cell_type": "code",
   "execution_count": 41,
   "metadata": {},
   "outputs": [],
   "source": [
    "# SVC 모델에서 중요한 파라미터는 gamma값이다 gamma값의 변화에 따른 정확도를 알아보자.\n",
    "param_range = np.logspace(-5, -1, 100)\n",
    "train_scores, test_scores = validation_curve(SVC(), scaled, y_samp, \n",
    "                                             param_name=\"gamma\", param_range=param_range,\n",
    "                                             cv=3, scoring=\"accuracy\", n_jobs=-1)"
   ]
  },
  {
   "cell_type": "code",
   "execution_count": 46,
   "metadata": {
    "scrolled": true
   },
   "outputs": [
    {
     "data": {
      "image/png": "[encoded data removed]",
      "text/plain": [
       "<Figure size 432x288 with 1 Axes>"
      ]
     },
     "metadata": {
      "needs_background": "light"
     },
     "output_type": "display_data"
    }
   ],
   "source": [
    "# gamma 값의 변화에 따른 정확도 그래프이다 train set의 정확도는 gamma가 약 0.001부터\n",
    "# 1로 수렴하고 test set의 정확도는 0.01 근방에서 1에 수렴하는 것을 볼 수 있다.\n",
    "# 그렇기 때문에 가장 적합한 모델을 생성하기 위해서는 gamma 값을 0.01로 설정하는 것이 바람직하다.\n",
    "plt.semilogx(param_range, train_scores.mean(axis=1), label=\"Training score\", color=\"r\")\n",
    "plt.semilogx(param_range, test_scores.mean(axis=1), label=\"Test score\", color=\"g\")\n",
    "plt.title('Validation Curve with SVM', fontsize = 15)\n",
    "plt.xlabel('gamma', fontsize = 13)\n",
    "plt.ylabel('accuracy score', fontsize = 13)\n",
    "plt.legend(['train', 'test'])\n",
    "plt.show()"
   ]
  },
  {
   "cell_type": "code",
   "execution_count": 43,
   "metadata": {},
   "outputs": [
    {
     "name": "stdout",
     "output_type": "stream",
     "text": [
      "Fitting 3 folds for each of 64 candidates, totalling 192 fits\n"
     ]
    },
    {
     "name": "stderr",
     "output_type": "stream",
     "text": [
      "[Parallel(n_jobs=-1)]: Using backend LokyBackend with 12 concurrent workers.\n",
      "[Parallel(n_jobs=-1)]: Done  17 tasks      | elapsed:    4.0s\n",
      "[Parallel(n_jobs=-1)]: Done 192 out of 192 | elapsed:   38.2s finished\n"
     ]
    },
    {
     "data": {
      "text/plain": [
       "{'C': 10, 'gamma': 0.01, 'kernel': 'rbf'}"
      ]
     },
     "execution_count": 43,
     "metadata": {},
     "output_type": "execute_result"
    }
   ],
   "source": [
    "param_grid = {'C': [0.1,1, 10, 100], 'gamma': [1,0.1,0.01,0.001],'kernel': ['rbf', 'poly', 'sigmoid', 'lenear']}\n",
    "grid_search = GridSearchCV(estimator = SVC(), param_grid = param_grid, \n",
    "                          cv = 3, n_jobs = -1, verbose = 2)\n",
    "grid_search.fit(x_train, y_train)\n",
    "grid_search.best_params_"
   ]
  }
 ],
 "metadata": {
  "kernelspec": {
   "display_name": "Python 3",
   "language": "python",
   "name": "python3"
  },
  "language_info": {
   "codemirror_mode": {
    "name": "ipython",
    "version": 3
   },
   "file_extension": ".py",
   "mimetype": "text/x-python",
   "name": "python",
   "nbconvert_exporter": "python",
   "pygments_lexer": "ipython3",
   "version": "3.7.6"
  }
 },
 "nbformat": 4,
 "nbformat_minor": 4
}
