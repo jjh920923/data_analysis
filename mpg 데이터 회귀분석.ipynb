{
 "cells": [
  {
   "cell_type": "code",
   "execution_count": 1,
   "metadata": {},
   "outputs": [],
   "source": [
    "import os\n",
    "import pandas as pd\n",
    "from sklearn.impute import KNNImputer\n",
    "import seaborn as sns\n",
    "import matplotlib.pyplot as plt\n",
    "from sklearn.preprocessing import MinMaxScaler\n",
    "from statsmodels.stats.outliers_influence import variance_inflation_factor\n",
    "import statsmodels.api as sm\n",
    "import numpy as np\n",
    "from sklearn.model_selection import train_test_split\n",
    "from sklearn.linear_model import LinearRegression, Ridge, Lasso, ElasticNet\n",
    "from sklearn.preprocessing import PolynomialFeatures\n",
    "from sklearn.pipeline import make_pipeline\n",
    "from sklearn.metrics import mean_squared_error"
   ]
  },
  {
   "cell_type": "code",
   "execution_count": 2,
   "metadata": {},
   "outputs": [],
   "source": [
    "import warnings\n",
    "warnings.simplefilter(\"ignore\")"
   ]
  },
  {
   "cell_type": "code",
   "execution_count": 3,
   "metadata": {},
   "outputs": [],
   "source": [
    "from matplotlib import font_manager, rc\n",
    "fname = \"c:/Windows/Fonts/malgun.ttf\"\n",
    "font_name = font_manager.FontProperties(fname = fname).get_name()\n",
    "rc('font', family=font_name)"
   ]
  },
  {
   "cell_type": "code",
   "execution_count": 4,
   "metadata": {},
   "outputs": [],
   "source": [
    "path = 'C:\\\\Users\\\\Msi\\\\Desktop\\\\data_analysis'\n",
    "os.chdir(path)"
   ]
  },
  {
   "cell_type": "code",
   "execution_count": 5,
   "metadata": {
    "scrolled": true
   },
   "outputs": [
    {
     "data": {
      "text/html": [
       "<div>\n",
       "<style scoped>\n",
       "    .dataframe tbody tr th:only-of-type {\n",
       "        vertical-align: middle;\n",
       "    }\n",
       "\n",
       "    .dataframe tbody tr th {\n",
       "        vertical-align: top;\n",
       "    }\n",
       "\n",
       "    .dataframe thead th {\n",
       "        text-align: right;\n",
       "    }\n",
       "</style>\n",
       "<table border=\"1\" class=\"dataframe\">\n",
       "  <thead>\n",
       "    <tr style=\"text-align: right;\">\n",
       "      <th></th>\n",
       "      <th>mpg</th>\n",
       "      <th>cylinders</th>\n",
       "      <th>displacement</th>\n",
       "      <th>horsepower</th>\n",
       "      <th>weight</th>\n",
       "      <th>acceleration</th>\n",
       "      <th>model year</th>\n",
       "      <th>origin</th>\n",
       "    </tr>\n",
       "    <tr>\n",
       "      <th>car name</th>\n",
       "      <th></th>\n",
       "      <th></th>\n",
       "      <th></th>\n",
       "      <th></th>\n",
       "      <th></th>\n",
       "      <th></th>\n",
       "      <th></th>\n",
       "      <th></th>\n",
       "    </tr>\n",
       "  </thead>\n",
       "  <tbody>\n",
       "    <tr>\n",
       "      <th>chevrolet chevelle malibu</th>\n",
       "      <td>18.0</td>\n",
       "      <td>8</td>\n",
       "      <td>307.0</td>\n",
       "      <td>130</td>\n",
       "      <td>3504</td>\n",
       "      <td>12.0</td>\n",
       "      <td>70</td>\n",
       "      <td>1</td>\n",
       "    </tr>\n",
       "    <tr>\n",
       "      <th>buick skylark 320</th>\n",
       "      <td>15.0</td>\n",
       "      <td>8</td>\n",
       "      <td>350.0</td>\n",
       "      <td>165</td>\n",
       "      <td>3693</td>\n",
       "      <td>11.5</td>\n",
       "      <td>70</td>\n",
       "      <td>1</td>\n",
       "    </tr>\n",
       "    <tr>\n",
       "      <th>plymouth satellite</th>\n",
       "      <td>18.0</td>\n",
       "      <td>8</td>\n",
       "      <td>318.0</td>\n",
       "      <td>150</td>\n",
       "      <td>3436</td>\n",
       "      <td>11.0</td>\n",
       "      <td>70</td>\n",
       "      <td>1</td>\n",
       "    </tr>\n",
       "    <tr>\n",
       "      <th>amc rebel sst</th>\n",
       "      <td>16.0</td>\n",
       "      <td>8</td>\n",
       "      <td>304.0</td>\n",
       "      <td>150</td>\n",
       "      <td>3433</td>\n",
       "      <td>12.0</td>\n",
       "      <td>70</td>\n",
       "      <td>1</td>\n",
       "    </tr>\n",
       "    <tr>\n",
       "      <th>ford torino</th>\n",
       "      <td>17.0</td>\n",
       "      <td>8</td>\n",
       "      <td>302.0</td>\n",
       "      <td>140</td>\n",
       "      <td>3449</td>\n",
       "      <td>10.5</td>\n",
       "      <td>70</td>\n",
       "      <td>1</td>\n",
       "    </tr>\n",
       "    <tr>\n",
       "      <th>...</th>\n",
       "      <td>...</td>\n",
       "      <td>...</td>\n",
       "      <td>...</td>\n",
       "      <td>...</td>\n",
       "      <td>...</td>\n",
       "      <td>...</td>\n",
       "      <td>...</td>\n",
       "      <td>...</td>\n",
       "    </tr>\n",
       "    <tr>\n",
       "      <th>ford mustang gl</th>\n",
       "      <td>27.0</td>\n",
       "      <td>4</td>\n",
       "      <td>140.0</td>\n",
       "      <td>86</td>\n",
       "      <td>2790</td>\n",
       "      <td>15.6</td>\n",
       "      <td>82</td>\n",
       "      <td>1</td>\n",
       "    </tr>\n",
       "    <tr>\n",
       "      <th>vw pickup</th>\n",
       "      <td>44.0</td>\n",
       "      <td>4</td>\n",
       "      <td>97.0</td>\n",
       "      <td>52</td>\n",
       "      <td>2130</td>\n",
       "      <td>24.6</td>\n",
       "      <td>82</td>\n",
       "      <td>2</td>\n",
       "    </tr>\n",
       "    <tr>\n",
       "      <th>dodge rampage</th>\n",
       "      <td>32.0</td>\n",
       "      <td>4</td>\n",
       "      <td>135.0</td>\n",
       "      <td>84</td>\n",
       "      <td>2295</td>\n",
       "      <td>11.6</td>\n",
       "      <td>82</td>\n",
       "      <td>1</td>\n",
       "    </tr>\n",
       "    <tr>\n",
       "      <th>ford ranger</th>\n",
       "      <td>28.0</td>\n",
       "      <td>4</td>\n",
       "      <td>120.0</td>\n",
       "      <td>79</td>\n",
       "      <td>2625</td>\n",
       "      <td>18.6</td>\n",
       "      <td>82</td>\n",
       "      <td>1</td>\n",
       "    </tr>\n",
       "    <tr>\n",
       "      <th>chevy s-10</th>\n",
       "      <td>31.0</td>\n",
       "      <td>4</td>\n",
       "      <td>119.0</td>\n",
       "      <td>82</td>\n",
       "      <td>2720</td>\n",
       "      <td>19.4</td>\n",
       "      <td>82</td>\n",
       "      <td>1</td>\n",
       "    </tr>\n",
       "  </tbody>\n",
       "</table>\n",
       "<p>398 rows × 8 columns</p>\n",
       "</div>"
      ],
      "text/plain": [
       "                            mpg  cylinders  displacement horsepower  weight  \\\n",
       "car name                                                                      \n",
       "chevrolet chevelle malibu  18.0          8         307.0        130    3504   \n",
       "buick skylark 320          15.0          8         350.0        165    3693   \n",
       "plymouth satellite         18.0          8         318.0        150    3436   \n",
       "amc rebel sst              16.0          8         304.0        150    3433   \n",
       "ford torino                17.0          8         302.0        140    3449   \n",
       "...                         ...        ...           ...        ...     ...   \n",
       "ford mustang gl            27.0          4         140.0         86    2790   \n",
       "vw pickup                  44.0          4          97.0         52    2130   \n",
       "dodge rampage              32.0          4         135.0         84    2295   \n",
       "ford ranger                28.0          4         120.0         79    2625   \n",
       "chevy s-10                 31.0          4         119.0         82    2720   \n",
       "\n",
       "                           acceleration  model year  origin  \n",
       "car name                                                     \n",
       "chevrolet chevelle malibu          12.0          70       1  \n",
       "buick skylark 320                  11.5          70       1  \n",
       "plymouth satellite                 11.0          70       1  \n",
       "amc rebel sst                      12.0          70       1  \n",
       "ford torino                        10.5          70       1  \n",
       "...                                 ...         ...     ...  \n",
       "ford mustang gl                    15.6          82       1  \n",
       "vw pickup                          24.6          82       2  \n",
       "dodge rampage                      11.6          82       1  \n",
       "ford ranger                        18.6          82       1  \n",
       "chevy s-10                         19.4          82       1  \n",
       "\n",
       "[398 rows x 8 columns]"
      ]
     },
     "execution_count": 5,
     "metadata": {},
     "output_type": "execute_result"
    }
   ],
   "source": [
    "data = pd.read_csv('auto-mpg.csv', index_col = 'car name')\n",
    "data"
   ]
  },
  {
   "cell_type": "code",
   "execution_count": 6,
   "metadata": {},
   "outputs": [],
   "source": [
    "##### 데이터 전처리 과정 #####"
   ]
  },
  {
   "cell_type": "code",
   "execution_count": 7,
   "metadata": {},
   "outputs": [
    {
     "data": {
      "text/plain": [
       "mpg             False\n",
       "cylinders       False\n",
       "displacement    False\n",
       "horsepower      False\n",
       "weight          False\n",
       "acceleration    False\n",
       "model year      False\n",
       "origin          False\n",
       "dtype: bool"
      ]
     },
     "execution_count": 7,
     "metadata": {},
     "output_type": "execute_result"
    }
   ],
   "source": [
    "# 결측치 확인\n",
    "data.isnull().any()"
   ]
  },
  {
   "cell_type": "code",
   "execution_count": 8,
   "metadata": {},
   "outputs": [
    {
     "data": {
      "text/plain": [
       "mpg             float64\n",
       "cylinders         int64\n",
       "displacement    float64\n",
       "horsepower       object\n",
       "weight            int64\n",
       "acceleration    float64\n",
       "model year        int64\n",
       "origin            int64\n",
       "dtype: object"
      ]
     },
     "execution_count": 8,
     "metadata": {},
     "output_type": "execute_result"
    }
   ],
   "source": [
    "### 데이터 type을 확인하기\n",
    "data.dtypes"
   ]
  },
  {
   "cell_type": "code",
   "execution_count": 9,
   "metadata": {
    "scrolled": true
   },
   "outputs": [
    {
     "data": {
      "text/plain": [
       "array(['130', '165', '150', '140', '198', '220', '215', '225', '190',\n",
       "       '170', '160', '95', '97', '85', '88', '46', '87', '90', '113',\n",
       "       '200', '210', '193', '?', '100', '105', '175', '153', '180', '110',\n",
       "       '72', '86', '70', '76', '65', '69', '60', '80', '54', '208', '155',\n",
       "       '112', '92', '145', '137', '158', '167', '94', '107', '230', '49',\n",
       "       '75', '91', '122', '67', '83', '78', '52', '61', '93', '148',\n",
       "       '129', '96', '71', '98', '115', '53', '81', '79', '120', '152',\n",
       "       '102', '108', '68', '58', '149', '89', '63', '48', '66', '139',\n",
       "       '103', '125', '133', '138', '135', '142', '77', '62', '132', '84',\n",
       "       '64', '74', '116', '82'], dtype=object)"
      ]
     },
     "execution_count": 9,
     "metadata": {},
     "output_type": "execute_result"
    }
   ],
   "source": [
    "# horsepower column이 object로 표시되는 것으로 보아 확인이 필요하다.\n",
    "# dataframe 안에 어떠한 원소들이 있는지 확인해보기 위해서는 unique를 사용한다.\n",
    "data.horsepower.unique()"
   ]
  },
  {
   "cell_type": "code",
   "execution_count": 10,
   "metadata": {},
   "outputs": [
    {
     "data": {
      "text/plain": [
       "6"
      ]
     },
     "execution_count": 10,
     "metadata": {},
     "output_type": "execute_result"
    }
   ],
   "source": [
    "# '?'가 섞여 있어 object type으로 표시되었기 때문에 '?'를 제거해주도록 한다.\n",
    "# '?' 갯수 보기\n",
    "list(data.horsepower).count('?')"
   ]
  },
  {
   "cell_type": "code",
   "execution_count": 11,
   "metadata": {
    "scrolled": true
   },
   "outputs": [],
   "source": [
    "data['horsepower'][data['horsepower'] == '?'] = None"
   ]
  },
  {
   "cell_type": "code",
   "execution_count": 12,
   "metadata": {},
   "outputs": [
    {
     "data": {
      "text/plain": [
       "0"
      ]
     },
     "execution_count": 12,
     "metadata": {},
     "output_type": "execute_result"
    }
   ],
   "source": [
    "# 제거 후 '?'의 갯수를 확인해보니 0개인 것을 볼 수 있다.\n",
    "list(data.horsepower).count('?')"
   ]
  },
  {
   "cell_type": "code",
   "execution_count": 13,
   "metadata": {},
   "outputs": [],
   "source": [
    "# KNNImputer 방법으로 결측치들을 채워주도록 한다.\n",
    "imputer = KNNImputer(n_neighbors = 2, weights = 'distance')\n",
    "df = pd.DataFrame(imputer.fit_transform(data))\n",
    "df.columns = data.columns\n",
    "df.index = data.index"
   ]
  },
  {
   "cell_type": "code",
   "execution_count": 14,
   "metadata": {
    "scrolled": false
   },
   "outputs": [
    {
     "data": {
      "image/png": "[encoded data removed]",
      "text/plain": [
       "<Figure size 648x648 with 8 Axes>"
      ]
     },
     "metadata": {
      "needs_background": "light"
     },
     "output_type": "display_data"
    }
   ],
   "source": [
    "# boxplot을 활용하여 각 columns들의 데이터 형태를 확인해본다.\n",
    "# boxplot에서는 이상치를 검출할 수 있다.\n",
    "# horsepower에서의 몇몇 이상치가 보이지만 극단적인 이상치가 아니기 때문에\n",
    "# 제거는 하지 않도록 한다.\n",
    "plt.figure(figsize=(9, 9))\n",
    "plt.subplots_adjust(wspace = 0.3, hspace = 0.5)\n",
    "for i in range(0, len(df.columns)):\n",
    "    plt.subplot(4, 2, i+1)\n",
    "    sns.boxplot(df.iloc[:,i])\n",
    "    plt.xlabel(df.columns[i], fontsize = 15)\n",
    "plt.show()"
   ]
  },
  {
   "cell_type": "code",
   "execution_count": 15,
   "metadata": {},
   "outputs": [],
   "source": [
    "# index에 똑같은 차종이 있기 때문에 차종 뒤에 일련번호를 삽입한다.\n",
    "df.index = df.index + df.groupby(level=0).cumcount().astype(str).replace('0','')"
   ]
  },
  {
   "cell_type": "code",
   "execution_count": 16,
   "metadata": {},
   "outputs": [],
   "source": [
    "### boxplot을 이용한 이상치 제거\n",
    "def boxplot_outlier(df):\n",
    "    for i in range(np.shape(df)[1]):     \n",
    "        Q1 = df.iloc[:,i-1].quantile(0.25)\n",
    "        Q3 = df.iloc[:,i-1].quantile(0.75)\n",
    "        IQR = Q3 - Q1\n",
    "        outlier_left = float(Q1 - (2 * IQR))\n",
    "        outlier_right = float(Q3 + (2 * IQR))\n",
    "        outlier = df[(df.iloc[:,i-1] < outlier_left) | (df.iloc[:,i-1] > outlier_right)]\n",
    "        df.iloc[:,i-1][outlier.index] = np.nan\n",
    "    df_new = df.dropna()\n",
    "    return df_new\n",
    "\n",
    "df = boxplot_outlier(df)"
   ]
  },
  {
   "cell_type": "code",
   "execution_count": 17,
   "metadata": {},
   "outputs": [],
   "source": [
    "# 데이터를 너무 많이 변형시켜놓으면 나중에 오류가 났을 때 바꾸기 힘들기 때문에\n",
    "# 복사본을 하나 만들어 놓는 것이 좋다.\n",
    "df_copy = df.copy()"
   ]
  },
  {
   "cell_type": "code",
   "execution_count": 18,
   "metadata": {},
   "outputs": [],
   "source": [
    "##### EDA(탐색적 분석) #####\n",
    "# 분석 목표 : 다른 요소들이 mpg(연비)값에 미치는 영향을 알아보자"
   ]
  },
  {
   "cell_type": "code",
   "execution_count": 19,
   "metadata": {
    "scrolled": false
   },
   "outputs": [
    {
     "data": {
      "text/html": [
       "<div>\n",
       "<style scoped>\n",
       "    .dataframe tbody tr th:only-of-type {\n",
       "        vertical-align: middle;\n",
       "    }\n",
       "\n",
       "    .dataframe tbody tr th {\n",
       "        vertical-align: top;\n",
       "    }\n",
       "\n",
       "    .dataframe thead th {\n",
       "        text-align: right;\n",
       "    }\n",
       "</style>\n",
       "<table border=\"1\" class=\"dataframe\">\n",
       "  <thead>\n",
       "    <tr style=\"text-align: right;\">\n",
       "      <th></th>\n",
       "      <th>mpg</th>\n",
       "      <th>cylinders</th>\n",
       "      <th>displacement</th>\n",
       "      <th>horsepower</th>\n",
       "      <th>weight</th>\n",
       "      <th>acceleration</th>\n",
       "      <th>model year</th>\n",
       "      <th>origin</th>\n",
       "    </tr>\n",
       "  </thead>\n",
       "  <tbody>\n",
       "    <tr>\n",
       "      <th>count</th>\n",
       "      <td>395.000000</td>\n",
       "      <td>395.000000</td>\n",
       "      <td>395.000000</td>\n",
       "      <td>395.000000</td>\n",
       "      <td>395.000000</td>\n",
       "      <td>395.000000</td>\n",
       "      <td>395.000000</td>\n",
       "      <td>395.000000</td>\n",
       "    </tr>\n",
       "    <tr>\n",
       "      <th>mean</th>\n",
       "      <td>23.472405</td>\n",
       "      <td>5.455696</td>\n",
       "      <td>193.279747</td>\n",
       "      <td>103.976168</td>\n",
       "      <td>2968.686076</td>\n",
       "      <td>15.537215</td>\n",
       "      <td>75.994937</td>\n",
       "      <td>1.572152</td>\n",
       "    </tr>\n",
       "    <tr>\n",
       "      <th>std</th>\n",
       "      <td>7.765956</td>\n",
       "      <td>1.699488</td>\n",
       "      <td>104.000382</td>\n",
       "      <td>37.875837</td>\n",
       "      <td>846.371022</td>\n",
       "      <td>2.673010</td>\n",
       "      <td>3.693179</td>\n",
       "      <td>0.804009</td>\n",
       "    </tr>\n",
       "    <tr>\n",
       "      <th>min</th>\n",
       "      <td>9.000000</td>\n",
       "      <td>3.000000</td>\n",
       "      <td>68.000000</td>\n",
       "      <td>46.000000</td>\n",
       "      <td>1613.000000</td>\n",
       "      <td>8.000000</td>\n",
       "      <td>70.000000</td>\n",
       "      <td>1.000000</td>\n",
       "    </tr>\n",
       "    <tr>\n",
       "      <th>25%</th>\n",
       "      <td>17.500000</td>\n",
       "      <td>4.000000</td>\n",
       "      <td>104.500000</td>\n",
       "      <td>75.000000</td>\n",
       "      <td>2224.500000</td>\n",
       "      <td>13.850000</td>\n",
       "      <td>73.000000</td>\n",
       "      <td>1.000000</td>\n",
       "    </tr>\n",
       "    <tr>\n",
       "      <th>50%</th>\n",
       "      <td>23.000000</td>\n",
       "      <td>4.000000</td>\n",
       "      <td>151.000000</td>\n",
       "      <td>93.000000</td>\n",
       "      <td>2800.000000</td>\n",
       "      <td>15.500000</td>\n",
       "      <td>76.000000</td>\n",
       "      <td>1.000000</td>\n",
       "    </tr>\n",
       "    <tr>\n",
       "      <th>75%</th>\n",
       "      <td>29.000000</td>\n",
       "      <td>8.000000</td>\n",
       "      <td>262.000000</td>\n",
       "      <td>125.000000</td>\n",
       "      <td>3607.000000</td>\n",
       "      <td>17.050000</td>\n",
       "      <td>79.000000</td>\n",
       "      <td>2.000000</td>\n",
       "    </tr>\n",
       "    <tr>\n",
       "      <th>max</th>\n",
       "      <td>46.600000</td>\n",
       "      <td>8.000000</td>\n",
       "      <td>455.000000</td>\n",
       "      <td>225.000000</td>\n",
       "      <td>5140.000000</td>\n",
       "      <td>23.700000</td>\n",
       "      <td>82.000000</td>\n",
       "      <td>3.000000</td>\n",
       "    </tr>\n",
       "  </tbody>\n",
       "</table>\n",
       "</div>"
      ],
      "text/plain": [
       "              mpg   cylinders  displacement  horsepower       weight  \\\n",
       "count  395.000000  395.000000    395.000000  395.000000   395.000000   \n",
       "mean    23.472405    5.455696    193.279747  103.976168  2968.686076   \n",
       "std      7.765956    1.699488    104.000382   37.875837   846.371022   \n",
       "min      9.000000    3.000000     68.000000   46.000000  1613.000000   \n",
       "25%     17.500000    4.000000    104.500000   75.000000  2224.500000   \n",
       "50%     23.000000    4.000000    151.000000   93.000000  2800.000000   \n",
       "75%     29.000000    8.000000    262.000000  125.000000  3607.000000   \n",
       "max     46.600000    8.000000    455.000000  225.000000  5140.000000   \n",
       "\n",
       "       acceleration  model year      origin  \n",
       "count    395.000000  395.000000  395.000000  \n",
       "mean      15.537215   75.994937    1.572152  \n",
       "std        2.673010    3.693179    0.804009  \n",
       "min        8.000000   70.000000    1.000000  \n",
       "25%       13.850000   73.000000    1.000000  \n",
       "50%       15.500000   76.000000    1.000000  \n",
       "75%       17.050000   79.000000    2.000000  \n",
       "max       23.700000   82.000000    3.000000  "
      ]
     },
     "execution_count": 19,
     "metadata": {},
     "output_type": "execute_result"
    }
   ],
   "source": [
    "# 전체 데이터 구조를 describe 함수로 훑어 본다.\n",
    "df.describe()"
   ]
  },
  {
   "cell_type": "code",
   "execution_count": 20,
   "metadata": {},
   "outputs": [
    {
     "data": {
      "text/plain": [
       "<matplotlib.axes._subplots.AxesSubplot at 0x157709fb808>"
      ]
     },
     "execution_count": 20,
     "metadata": {},
     "output_type": "execute_result"
    },
    {
     "data": {
      "image/png": "[encoded data removed]",
      "text/plain": [
       "<Figure size 432x288 with 1 Axes>"
      ]
     },
     "metadata": {
      "needs_background": "light"
     },
     "output_type": "display_data"
    }
   ],
   "source": [
    "# mpg(연비)가 종속변수이기 때문에 그래프를 그려보고 확인해 본다.\n",
    "# mpg(연비)는 살짝 왼쪽으로 치우친 정규분포 형태의 모양을 갖는다.\n",
    "sns.distplot(df['mpg'])"
   ]
  },
  {
   "cell_type": "code",
   "execution_count": 21,
   "metadata": {},
   "outputs": [
    {
     "name": "stdout",
     "output_type": "stream",
     "text": [
      "Skewness: 0.441111\n",
      "Kurtosis: -0.543338\n"
     ]
    }
   ],
   "source": [
    "# mpg의 첨도와 왜도를 확인해 본다.\n",
    "\n",
    "# 첨도가 0보다 크면 그래프가 왼쪽으로 치우쳐져있다.\n",
    "# 첨도가 0보다 작으면 그래프가 오른쪽으로 치우쳐져있다.\n",
    "# 첨도가 0이면 어느 한쪽으로 치우쳐져 있지 않다.\n",
    "\n",
    "# 왜도가 0보다 크면 정규분포 그래프보다 뾰족한 형태를 가진다.\n",
    "# 왜도가 0보다 작으면 정규분포 그래프보다 완만한 형태를 가진다.\n",
    "# 왜도가 0이면 정규분포의 형태를 가진다.\n",
    "\n",
    "print(\"Skewness: %f\" % df.mpg.skew())\n",
    "print(\"Kurtosis: %f\" % df.mpg.kurt())"
   ]
  },
  {
   "cell_type": "code",
   "execution_count": 22,
   "metadata": {
    "scrolled": true
   },
   "outputs": [
    {
     "data": {
      "image/png": "[encoded data removed]",
      "text/plain": [
       "<Figure size 504x360 with 1 Axes>"
      ]
     },
     "metadata": {
      "needs_background": "light"
     },
     "output_type": "display_data"
    }
   ],
   "source": [
    "# 생산년도별 연비를 boxplot으로 확인해보자.\n",
    "# 생산 연도가 늦어질 수록 즉, 시간이 지날 수록 \n",
    "plt.subplots(figsize=(7, 5))\n",
    "sns.boxplot(df['model year'], df['mpg'])\n",
    "plt.axhline(df['mpg'].mean(), color = 'r',linestyle = '--', linewidth = 2)\n",
    "plt.xlabel('model year', fontsize = 15)\n",
    "plt.ylabel('mpg', fontsize = 15)\n",
    "plt.title('생산년도별 연비', fontsize = 15)\n",
    "plt.show()"
   ]
  },
  {
   "cell_type": "code",
   "execution_count": 23,
   "metadata": {},
   "outputs": [
    {
     "data": {
      "image/png": "[encoded data removed]",
      "text/plain": [
       "<Figure size 432x288 with 1 Axes>"
      ]
     },
     "metadata": {
      "needs_background": "light"
     },
     "output_type": "display_data"
    }
   ],
   "source": [
    "# 실린더 갯수에 따른 연비 확인\n",
    "plt.plot(figsize=(8, 6))\n",
    "sns.boxplot(df['cylinders'], df['mpg'])\n",
    "plt.axhline(df['mpg'].mean(), linestyle = '--', color = 'r', linewidth = 2)\n",
    "plt.xlabel('cylinders', fontsize = 15)\n",
    "plt.ylabel('mpg', fontsize = 15)\n",
    "plt.title('실린더 갯수에 따른 연비', fontsize = 15)\n",
    "plt.show()"
   ]
  },
  {
   "cell_type": "code",
   "execution_count": 24,
   "metadata": {
    "scrolled": false
   },
   "outputs": [
    {
     "data": {
      "image/png": "[encoded data removed]",
      "text/plain": [
       "<Figure size 432x288 with 2 Axes>"
      ]
     },
     "metadata": {
      "needs_background": "light"
     },
     "output_type": "display_data"
    }
   ],
   "source": [
    "# 히트맵을 이용하여 각 변수의 관계를 상관계수로 알아본다.\n",
    "# cylinders, displacement, weight 이 세 변수 간 상관관계가 높아 다중공선성이 의심되므로 제거가 필요하다.\n",
    "mpg_corr = df.corr()\n",
    "plt.plot(figsize=(7, 5))\n",
    "sns.heatmap(mpg_corr, cmap = 'Blues', annot = True, square = True)\n",
    "plt.show()"
   ]
  },
  {
   "cell_type": "code",
   "execution_count": 25,
   "metadata": {
    "scrolled": true
   },
   "outputs": [
    {
     "data": {
      "text/html": [
       "<div>\n",
       "<style scoped>\n",
       "    .dataframe tbody tr th:only-of-type {\n",
       "        vertical-align: middle;\n",
       "    }\n",
       "\n",
       "    .dataframe tbody tr th {\n",
       "        vertical-align: top;\n",
       "    }\n",
       "\n",
       "    .dataframe thead th {\n",
       "        text-align: right;\n",
       "    }\n",
       "</style>\n",
       "<table border=\"1\" class=\"dataframe\">\n",
       "  <thead>\n",
       "    <tr style=\"text-align: right;\">\n",
       "      <th></th>\n",
       "      <th>mpg</th>\n",
       "      <th>cylinders</th>\n",
       "      <th>displacement</th>\n",
       "      <th>horsepower</th>\n",
       "      <th>weight</th>\n",
       "      <th>acceleration</th>\n",
       "      <th>model year</th>\n",
       "      <th>origin</th>\n",
       "    </tr>\n",
       "  </thead>\n",
       "  <tbody>\n",
       "    <tr>\n",
       "      <th>mazda glc</th>\n",
       "      <td>46.6</td>\n",
       "      <td>4.0</td>\n",
       "      <td>86.0</td>\n",
       "      <td>65.0</td>\n",
       "      <td>2110.0</td>\n",
       "      <td>17.9</td>\n",
       "      <td>80.0</td>\n",
       "      <td>3.0</td>\n",
       "    </tr>\n",
       "  </tbody>\n",
       "</table>\n",
       "</div>"
      ],
      "text/plain": [
       "            mpg  cylinders  displacement  horsepower  weight  acceleration  \\\n",
       "mazda glc  46.6        4.0          86.0        65.0  2110.0          17.9   \n",
       "\n",
       "           model year  origin  \n",
       "mazda glc        80.0     3.0  "
      ]
     },
     "execution_count": 25,
     "metadata": {},
     "output_type": "execute_result"
    }
   ],
   "source": [
    "# 연비가 가장 높은 차 구하기\n",
    "# 연비가 가장 높은 차는 일본의 mazda glc이다.\n",
    "df[df['mpg'] == max(df['mpg'])]"
   ]
  },
  {
   "cell_type": "code",
   "execution_count": 26,
   "metadata": {},
   "outputs": [
    {
     "data": {
      "text/html": [
       "<div>\n",
       "<style scoped>\n",
       "    .dataframe tbody tr th:only-of-type {\n",
       "        vertical-align: middle;\n",
       "    }\n",
       "\n",
       "    .dataframe tbody tr th {\n",
       "        vertical-align: top;\n",
       "    }\n",
       "\n",
       "    .dataframe thead th {\n",
       "        text-align: right;\n",
       "    }\n",
       "</style>\n",
       "<table border=\"1\" class=\"dataframe\">\n",
       "  <thead>\n",
       "    <tr style=\"text-align: right;\">\n",
       "      <th></th>\n",
       "      <th>mpg</th>\n",
       "      <th>cylinders</th>\n",
       "      <th>displacement</th>\n",
       "      <th>horsepower</th>\n",
       "      <th>weight</th>\n",
       "      <th>acceleration</th>\n",
       "      <th>model year</th>\n",
       "      <th>origin</th>\n",
       "    </tr>\n",
       "  </thead>\n",
       "  <tbody>\n",
       "    <tr>\n",
       "      <th>hi 1200d</th>\n",
       "      <td>9.0</td>\n",
       "      <td>8.0</td>\n",
       "      <td>304.0</td>\n",
       "      <td>193.0</td>\n",
       "      <td>4732.0</td>\n",
       "      <td>18.5</td>\n",
       "      <td>70.0</td>\n",
       "      <td>1.0</td>\n",
       "    </tr>\n",
       "  </tbody>\n",
       "</table>\n",
       "</div>"
      ],
      "text/plain": [
       "          mpg  cylinders  displacement  horsepower  weight  acceleration  \\\n",
       "hi 1200d  9.0        8.0         304.0       193.0  4732.0          18.5   \n",
       "\n",
       "          model year  origin  \n",
       "hi 1200d        70.0     1.0  "
      ]
     },
     "execution_count": 26,
     "metadata": {},
     "output_type": "execute_result"
    }
   ],
   "source": [
    "# 연비가 가장 낮은 차 구하기\n",
    "# 연비가 가장 낮은 차는 미국의 hi 1200d이다.\n",
    "df[df['mpg'] == min(df['mpg'])]"
   ]
  },
  {
   "cell_type": "code",
   "execution_count": 27,
   "metadata": {},
   "outputs": [
    {
     "data": {
      "text/plain": [
       "chevrolet chevelle malibu    USA\n",
       "buick skylark 320            USA\n",
       "plymouth satellite           USA\n",
       "amc rebel sst                USA\n",
       "ford torino                  USA\n",
       "                            ... \n",
       "chevrolet camaro             USA\n",
       "ford mustang gl              USA\n",
       "dodge rampage                USA\n",
       "ford ranger                  USA\n",
       "chevy s-10                   USA\n",
       "Name: country, Length: 395, dtype: object"
      ]
     },
     "execution_count": 27,
     "metadata": {},
     "output_type": "execute_result"
    }
   ],
   "source": [
    "# country_code에 1, 2, 3으로 되어있는 데이터를 미국, 유럽, 일본으로 바꿔준다.\n",
    "df['country'] = df['origin'].replace([1, 2, 3], ['USA', 'Europe','Japan'])\n",
    "df['country']"
   ]
  },
  {
   "cell_type": "code",
   "execution_count": 28,
   "metadata": {
    "scrolled": true
   },
   "outputs": [
    {
     "data": {
      "image/png": "[encoded data removed]",
      "text/plain": [
       "<Figure size 356.125x288 with 1 Axes>"
      ]
     },
     "metadata": {
      "needs_background": "light"
     },
     "output_type": "display_data"
    }
   ],
   "source": [
    "# 마력과 연비간의 회귀선을 국가별로 나눠서 볼 수 있다.\n",
    "sns.lmplot('horsepower', 'mpg', data=df, hue='country', size = 4)\n",
    "plt.ylim(0, 50)\n",
    "plt.xlabel('horsepower', fontsize = 15)\n",
    "plt.ylabel('mpg', fontsize = 15)\n",
    "plt.show()"
   ]
  },
  {
   "cell_type": "code",
   "execution_count": 29,
   "metadata": {
    "scrolled": false
   },
   "outputs": [
    {
     "data": {
      "image/png": "[encoded data removed]",
      "text/plain": [
       "<Figure size 576x432 with 1 Axes>"
      ]
     },
     "metadata": {
      "needs_background": "light"
     },
     "output_type": "display_data"
    }
   ],
   "source": [
    "# 나라별 연비를 한번 boxplot으로 확인해보도록 하자.\n",
    "plt.figure(figsize=(8, 6))\n",
    "sns.boxplot(df['country'], df['mpg'])\n",
    "plt.axhline(df['mpg'].mean(), linestyle='--', color='r')\n",
    "plt.xlabel(\"Country\", fontsize = 13)\n",
    "plt.ylabel('mpg', fontsize = 13)\n",
    "plt.title('나라별 연비', fontsize = 15)\n",
    "plt.show()"
   ]
  },
  {
   "cell_type": "code",
   "execution_count": 30,
   "metadata": {},
   "outputs": [],
   "source": [
    "##### 데이터 분석 #####"
   ]
  },
  {
   "cell_type": "code",
   "execution_count": 31,
   "metadata": {
    "scrolled": true
   },
   "outputs": [
    {
     "data": {
      "text/html": [
       "<div>\n",
       "<style scoped>\n",
       "    .dataframe tbody tr th:only-of-type {\n",
       "        vertical-align: middle;\n",
       "    }\n",
       "\n",
       "    .dataframe tbody tr th {\n",
       "        vertical-align: top;\n",
       "    }\n",
       "\n",
       "    .dataframe thead th {\n",
       "        text-align: right;\n",
       "    }\n",
       "</style>\n",
       "<table border=\"1\" class=\"dataframe\">\n",
       "  <thead>\n",
       "    <tr style=\"text-align: right;\">\n",
       "      <th></th>\n",
       "      <th>mpg</th>\n",
       "      <th>cylinders</th>\n",
       "      <th>displacement</th>\n",
       "      <th>horsepower</th>\n",
       "      <th>weight</th>\n",
       "      <th>acceleration</th>\n",
       "      <th>model year</th>\n",
       "      <th>USA</th>\n",
       "      <th>Europe</th>\n",
       "      <th>Japan</th>\n",
       "    </tr>\n",
       "  </thead>\n",
       "  <tbody>\n",
       "    <tr>\n",
       "      <th>chevrolet chevelle malibu</th>\n",
       "      <td>18.0</td>\n",
       "      <td>8.0</td>\n",
       "      <td>307.0</td>\n",
       "      <td>130.0</td>\n",
       "      <td>3504.0</td>\n",
       "      <td>12.0</td>\n",
       "      <td>70.0</td>\n",
       "      <td>1</td>\n",
       "      <td>0</td>\n",
       "      <td>0</td>\n",
       "    </tr>\n",
       "    <tr>\n",
       "      <th>buick skylark 320</th>\n",
       "      <td>15.0</td>\n",
       "      <td>8.0</td>\n",
       "      <td>350.0</td>\n",
       "      <td>165.0</td>\n",
       "      <td>3693.0</td>\n",
       "      <td>11.5</td>\n",
       "      <td>70.0</td>\n",
       "      <td>1</td>\n",
       "      <td>0</td>\n",
       "      <td>0</td>\n",
       "    </tr>\n",
       "    <tr>\n",
       "      <th>plymouth satellite</th>\n",
       "      <td>18.0</td>\n",
       "      <td>8.0</td>\n",
       "      <td>318.0</td>\n",
       "      <td>150.0</td>\n",
       "      <td>3436.0</td>\n",
       "      <td>11.0</td>\n",
       "      <td>70.0</td>\n",
       "      <td>1</td>\n",
       "      <td>0</td>\n",
       "      <td>0</td>\n",
       "    </tr>\n",
       "    <tr>\n",
       "      <th>amc rebel sst</th>\n",
       "      <td>16.0</td>\n",
       "      <td>8.0</td>\n",
       "      <td>304.0</td>\n",
       "      <td>150.0</td>\n",
       "      <td>3433.0</td>\n",
       "      <td>12.0</td>\n",
       "      <td>70.0</td>\n",
       "      <td>1</td>\n",
       "      <td>0</td>\n",
       "      <td>0</td>\n",
       "    </tr>\n",
       "    <tr>\n",
       "      <th>ford torino</th>\n",
       "      <td>17.0</td>\n",
       "      <td>8.0</td>\n",
       "      <td>302.0</td>\n",
       "      <td>140.0</td>\n",
       "      <td>3449.0</td>\n",
       "      <td>10.5</td>\n",
       "      <td>70.0</td>\n",
       "      <td>1</td>\n",
       "      <td>0</td>\n",
       "      <td>0</td>\n",
       "    </tr>\n",
       "    <tr>\n",
       "      <th>...</th>\n",
       "      <td>...</td>\n",
       "      <td>...</td>\n",
       "      <td>...</td>\n",
       "      <td>...</td>\n",
       "      <td>...</td>\n",
       "      <td>...</td>\n",
       "      <td>...</td>\n",
       "      <td>...</td>\n",
       "      <td>...</td>\n",
       "      <td>...</td>\n",
       "    </tr>\n",
       "    <tr>\n",
       "      <th>chevrolet camaro</th>\n",
       "      <td>27.0</td>\n",
       "      <td>4.0</td>\n",
       "      <td>151.0</td>\n",
       "      <td>90.0</td>\n",
       "      <td>2950.0</td>\n",
       "      <td>17.3</td>\n",
       "      <td>82.0</td>\n",
       "      <td>1</td>\n",
       "      <td>0</td>\n",
       "      <td>0</td>\n",
       "    </tr>\n",
       "    <tr>\n",
       "      <th>ford mustang gl</th>\n",
       "      <td>27.0</td>\n",
       "      <td>4.0</td>\n",
       "      <td>140.0</td>\n",
       "      <td>86.0</td>\n",
       "      <td>2790.0</td>\n",
       "      <td>15.6</td>\n",
       "      <td>82.0</td>\n",
       "      <td>1</td>\n",
       "      <td>0</td>\n",
       "      <td>0</td>\n",
       "    </tr>\n",
       "    <tr>\n",
       "      <th>dodge rampage</th>\n",
       "      <td>32.0</td>\n",
       "      <td>4.0</td>\n",
       "      <td>135.0</td>\n",
       "      <td>84.0</td>\n",
       "      <td>2295.0</td>\n",
       "      <td>11.6</td>\n",
       "      <td>82.0</td>\n",
       "      <td>1</td>\n",
       "      <td>0</td>\n",
       "      <td>0</td>\n",
       "    </tr>\n",
       "    <tr>\n",
       "      <th>ford ranger</th>\n",
       "      <td>28.0</td>\n",
       "      <td>4.0</td>\n",
       "      <td>120.0</td>\n",
       "      <td>79.0</td>\n",
       "      <td>2625.0</td>\n",
       "      <td>18.6</td>\n",
       "      <td>82.0</td>\n",
       "      <td>1</td>\n",
       "      <td>0</td>\n",
       "      <td>0</td>\n",
       "    </tr>\n",
       "    <tr>\n",
       "      <th>chevy s-10</th>\n",
       "      <td>31.0</td>\n",
       "      <td>4.0</td>\n",
       "      <td>119.0</td>\n",
       "      <td>82.0</td>\n",
       "      <td>2720.0</td>\n",
       "      <td>19.4</td>\n",
       "      <td>82.0</td>\n",
       "      <td>1</td>\n",
       "      <td>0</td>\n",
       "      <td>0</td>\n",
       "    </tr>\n",
       "  </tbody>\n",
       "</table>\n",
       "<p>395 rows × 10 columns</p>\n",
       "</div>"
      ],
      "text/plain": [
       "                            mpg  cylinders  displacement  horsepower  weight  \\\n",
       "chevrolet chevelle malibu  18.0        8.0         307.0       130.0  3504.0   \n",
       "buick skylark 320          15.0        8.0         350.0       165.0  3693.0   \n",
       "plymouth satellite         18.0        8.0         318.0       150.0  3436.0   \n",
       "amc rebel sst              16.0        8.0         304.0       150.0  3433.0   \n",
       "ford torino                17.0        8.0         302.0       140.0  3449.0   \n",
       "...                         ...        ...           ...         ...     ...   \n",
       "chevrolet camaro           27.0        4.0         151.0        90.0  2950.0   \n",
       "ford mustang gl            27.0        4.0         140.0        86.0  2790.0   \n",
       "dodge rampage              32.0        4.0         135.0        84.0  2295.0   \n",
       "ford ranger                28.0        4.0         120.0        79.0  2625.0   \n",
       "chevy s-10                 31.0        4.0         119.0        82.0  2720.0   \n",
       "\n",
       "                           acceleration  model year  USA  Europe  Japan  \n",
       "chevrolet chevelle malibu          12.0        70.0    1       0      0  \n",
       "buick skylark 320                  11.5        70.0    1       0      0  \n",
       "plymouth satellite                 11.0        70.0    1       0      0  \n",
       "amc rebel sst                      12.0        70.0    1       0      0  \n",
       "ford torino                        10.5        70.0    1       0      0  \n",
       "...                                 ...         ...  ...     ...    ...  \n",
       "chevrolet camaro                   17.3        82.0    1       0      0  \n",
       "ford mustang gl                    15.6        82.0    1       0      0  \n",
       "dodge rampage                      11.6        82.0    1       0      0  \n",
       "ford ranger                        18.6        82.0    1       0      0  \n",
       "chevy s-10                         19.4        82.0    1       0      0  \n",
       "\n",
       "[395 rows x 10 columns]"
      ]
     },
     "execution_count": 31,
     "metadata": {},
     "output_type": "execute_result"
    }
   ],
   "source": [
    "dummy = pd.get_dummies(df['origin'])\n",
    "dummy.columns = ['USA', 'Europe', 'Japan']\n",
    "df_new = pd.concat([df, dummy], axis = 1)\n",
    "df_new = df_new.drop(['origin', 'country'], axis = 1)\n",
    "df_new"
   ]
  },
  {
   "cell_type": "code",
   "execution_count": 32,
   "metadata": {
    "scrolled": true
   },
   "outputs": [
    {
     "data": {
      "text/html": [
       "<div>\n",
       "<style scoped>\n",
       "    .dataframe tbody tr th:only-of-type {\n",
       "        vertical-align: middle;\n",
       "    }\n",
       "\n",
       "    .dataframe tbody tr th {\n",
       "        vertical-align: top;\n",
       "    }\n",
       "\n",
       "    .dataframe thead th {\n",
       "        text-align: right;\n",
       "    }\n",
       "</style>\n",
       "<table border=\"1\" class=\"dataframe\">\n",
       "  <thead>\n",
       "    <tr style=\"text-align: right;\">\n",
       "      <th></th>\n",
       "      <th>mpg</th>\n",
       "      <th>cylinders</th>\n",
       "      <th>displacement</th>\n",
       "      <th>horsepower</th>\n",
       "      <th>weight</th>\n",
       "      <th>acceleration</th>\n",
       "      <th>model year</th>\n",
       "      <th>USA</th>\n",
       "      <th>Europe</th>\n",
       "      <th>Japan</th>\n",
       "    </tr>\n",
       "  </thead>\n",
       "  <tbody>\n",
       "    <tr>\n",
       "      <th>chevrolet chevelle malibu</th>\n",
       "      <td>0.239362</td>\n",
       "      <td>1.0</td>\n",
       "      <td>0.617571</td>\n",
       "      <td>0.469274</td>\n",
       "      <td>0.536150</td>\n",
       "      <td>0.254777</td>\n",
       "      <td>0.0</td>\n",
       "      <td>1.0</td>\n",
       "      <td>0.0</td>\n",
       "      <td>0.0</td>\n",
       "    </tr>\n",
       "    <tr>\n",
       "      <th>buick skylark 320</th>\n",
       "      <td>0.159574</td>\n",
       "      <td>1.0</td>\n",
       "      <td>0.728682</td>\n",
       "      <td>0.664804</td>\n",
       "      <td>0.589736</td>\n",
       "      <td>0.222930</td>\n",
       "      <td>0.0</td>\n",
       "      <td>1.0</td>\n",
       "      <td>0.0</td>\n",
       "      <td>0.0</td>\n",
       "    </tr>\n",
       "    <tr>\n",
       "      <th>plymouth satellite</th>\n",
       "      <td>0.239362</td>\n",
       "      <td>1.0</td>\n",
       "      <td>0.645995</td>\n",
       "      <td>0.581006</td>\n",
       "      <td>0.516870</td>\n",
       "      <td>0.191083</td>\n",
       "      <td>0.0</td>\n",
       "      <td>1.0</td>\n",
       "      <td>0.0</td>\n",
       "      <td>0.0</td>\n",
       "    </tr>\n",
       "    <tr>\n",
       "      <th>amc rebel sst</th>\n",
       "      <td>0.186170</td>\n",
       "      <td>1.0</td>\n",
       "      <td>0.609819</td>\n",
       "      <td>0.581006</td>\n",
       "      <td>0.516019</td>\n",
       "      <td>0.254777</td>\n",
       "      <td>0.0</td>\n",
       "      <td>1.0</td>\n",
       "      <td>0.0</td>\n",
       "      <td>0.0</td>\n",
       "    </tr>\n",
       "    <tr>\n",
       "      <th>ford torino</th>\n",
       "      <td>0.212766</td>\n",
       "      <td>1.0</td>\n",
       "      <td>0.604651</td>\n",
       "      <td>0.525140</td>\n",
       "      <td>0.520556</td>\n",
       "      <td>0.159236</td>\n",
       "      <td>0.0</td>\n",
       "      <td>1.0</td>\n",
       "      <td>0.0</td>\n",
       "      <td>0.0</td>\n",
       "    </tr>\n",
       "    <tr>\n",
       "      <th>...</th>\n",
       "      <td>...</td>\n",
       "      <td>...</td>\n",
       "      <td>...</td>\n",
       "      <td>...</td>\n",
       "      <td>...</td>\n",
       "      <td>...</td>\n",
       "      <td>...</td>\n",
       "      <td>...</td>\n",
       "      <td>...</td>\n",
       "      <td>...</td>\n",
       "    </tr>\n",
       "    <tr>\n",
       "      <th>chevrolet camaro</th>\n",
       "      <td>0.478723</td>\n",
       "      <td>0.2</td>\n",
       "      <td>0.214470</td>\n",
       "      <td>0.245810</td>\n",
       "      <td>0.379076</td>\n",
       "      <td>0.592357</td>\n",
       "      <td>1.0</td>\n",
       "      <td>1.0</td>\n",
       "      <td>0.0</td>\n",
       "      <td>0.0</td>\n",
       "    </tr>\n",
       "    <tr>\n",
       "      <th>ford mustang gl</th>\n",
       "      <td>0.478723</td>\n",
       "      <td>0.2</td>\n",
       "      <td>0.186047</td>\n",
       "      <td>0.223464</td>\n",
       "      <td>0.333711</td>\n",
       "      <td>0.484076</td>\n",
       "      <td>1.0</td>\n",
       "      <td>1.0</td>\n",
       "      <td>0.0</td>\n",
       "      <td>0.0</td>\n",
       "    </tr>\n",
       "    <tr>\n",
       "      <th>dodge rampage</th>\n",
       "      <td>0.611702</td>\n",
       "      <td>0.2</td>\n",
       "      <td>0.173127</td>\n",
       "      <td>0.212291</td>\n",
       "      <td>0.193365</td>\n",
       "      <td>0.229299</td>\n",
       "      <td>1.0</td>\n",
       "      <td>1.0</td>\n",
       "      <td>0.0</td>\n",
       "      <td>0.0</td>\n",
       "    </tr>\n",
       "    <tr>\n",
       "      <th>ford ranger</th>\n",
       "      <td>0.505319</td>\n",
       "      <td>0.2</td>\n",
       "      <td>0.134367</td>\n",
       "      <td>0.184358</td>\n",
       "      <td>0.286929</td>\n",
       "      <td>0.675159</td>\n",
       "      <td>1.0</td>\n",
       "      <td>1.0</td>\n",
       "      <td>0.0</td>\n",
       "      <td>0.0</td>\n",
       "    </tr>\n",
       "    <tr>\n",
       "      <th>chevy s-10</th>\n",
       "      <td>0.585106</td>\n",
       "      <td>0.2</td>\n",
       "      <td>0.131783</td>\n",
       "      <td>0.201117</td>\n",
       "      <td>0.313864</td>\n",
       "      <td>0.726115</td>\n",
       "      <td>1.0</td>\n",
       "      <td>1.0</td>\n",
       "      <td>0.0</td>\n",
       "      <td>0.0</td>\n",
       "    </tr>\n",
       "  </tbody>\n",
       "</table>\n",
       "<p>395 rows × 10 columns</p>\n",
       "</div>"
      ],
      "text/plain": [
       "                                mpg  cylinders  displacement  horsepower  \\\n",
       "chevrolet chevelle malibu  0.239362        1.0      0.617571    0.469274   \n",
       "buick skylark 320          0.159574        1.0      0.728682    0.664804   \n",
       "plymouth satellite         0.239362        1.0      0.645995    0.581006   \n",
       "amc rebel sst              0.186170        1.0      0.609819    0.581006   \n",
       "ford torino                0.212766        1.0      0.604651    0.525140   \n",
       "...                             ...        ...           ...         ...   \n",
       "chevrolet camaro           0.478723        0.2      0.214470    0.245810   \n",
       "ford mustang gl            0.478723        0.2      0.186047    0.223464   \n",
       "dodge rampage              0.611702        0.2      0.173127    0.212291   \n",
       "ford ranger                0.505319        0.2      0.134367    0.184358   \n",
       "chevy s-10                 0.585106        0.2      0.131783    0.201117   \n",
       "\n",
       "                             weight  acceleration  model year  USA  Europe  \\\n",
       "chevrolet chevelle malibu  0.536150      0.254777         0.0  1.0     0.0   \n",
       "buick skylark 320          0.589736      0.222930         0.0  1.0     0.0   \n",
       "plymouth satellite         0.516870      0.191083         0.0  1.0     0.0   \n",
       "amc rebel sst              0.516019      0.254777         0.0  1.0     0.0   \n",
       "ford torino                0.520556      0.159236         0.0  1.0     0.0   \n",
       "...                             ...           ...         ...  ...     ...   \n",
       "chevrolet camaro           0.379076      0.592357         1.0  1.0     0.0   \n",
       "ford mustang gl            0.333711      0.484076         1.0  1.0     0.0   \n",
       "dodge rampage              0.193365      0.229299         1.0  1.0     0.0   \n",
       "ford ranger                0.286929      0.675159         1.0  1.0     0.0   \n",
       "chevy s-10                 0.313864      0.726115         1.0  1.0     0.0   \n",
       "\n",
       "                           Japan  \n",
       "chevrolet chevelle malibu    0.0  \n",
       "buick skylark 320            0.0  \n",
       "plymouth satellite           0.0  \n",
       "amc rebel sst                0.0  \n",
       "ford torino                  0.0  \n",
       "...                          ...  \n",
       "chevrolet camaro             0.0  \n",
       "ford mustang gl              0.0  \n",
       "dodge rampage                0.0  \n",
       "ford ranger                  0.0  \n",
       "chevy s-10                   0.0  \n",
       "\n",
       "[395 rows x 10 columns]"
      ]
     },
     "execution_count": 32,
     "metadata": {},
     "output_type": "execute_result"
    }
   ],
   "source": [
    "# 데이터들의 범위가 다르기 때문에 overfitting과 underfitting을 방지하기 위해 scaling을 해준다.\n",
    "# 여러가지 scale 기법이 있지만 더미변수의 변화를 유지하기 위해 MinMaxScaler를 사용하도록 한다.\n",
    "scaler = MinMaxScaler()\n",
    "scaled = scaler.fit_transform(df_new)\n",
    "scaled = pd.DataFrame(scaled)\n",
    "scaled.columns = df_new.columns\n",
    "scaled.index = df_new.index\n",
    "scaled"
   ]
  },
  {
   "cell_type": "code",
   "execution_count": 33,
   "metadata": {},
   "outputs": [
    {
     "data": {
      "text/html": [
       "<div>\n",
       "<style scoped>\n",
       "    .dataframe tbody tr th:only-of-type {\n",
       "        vertical-align: middle;\n",
       "    }\n",
       "\n",
       "    .dataframe tbody tr th {\n",
       "        vertical-align: top;\n",
       "    }\n",
       "\n",
       "    .dataframe thead th {\n",
       "        text-align: right;\n",
       "    }\n",
       "</style>\n",
       "<table border=\"1\" class=\"dataframe\">\n",
       "  <thead>\n",
       "    <tr style=\"text-align: right;\">\n",
       "      <th></th>\n",
       "      <th>mpg</th>\n",
       "      <th>cylinders</th>\n",
       "      <th>displacement</th>\n",
       "      <th>horsepower</th>\n",
       "      <th>weight</th>\n",
       "      <th>acceleration</th>\n",
       "      <th>model year</th>\n",
       "      <th>USA</th>\n",
       "      <th>Europe</th>\n",
       "      <th>Japan</th>\n",
       "    </tr>\n",
       "  </thead>\n",
       "  <tbody>\n",
       "    <tr>\n",
       "      <th>mpg</th>\n",
       "      <td>1.000000</td>\n",
       "      <td>-0.776592</td>\n",
       "      <td>-0.805974</td>\n",
       "      <td>-0.781526</td>\n",
       "      <td>-0.833823</td>\n",
       "      <td>0.407299</td>\n",
       "      <td>0.574288</td>\n",
       "      <td>-0.564758</td>\n",
       "      <td>0.246484</td>\n",
       "      <td>0.449853</td>\n",
       "    </tr>\n",
       "    <tr>\n",
       "      <th>cylinders</th>\n",
       "      <td>-0.776592</td>\n",
       "      <td>1.000000</td>\n",
       "      <td>0.950640</td>\n",
       "      <td>0.844105</td>\n",
       "      <td>0.896682</td>\n",
       "      <td>-0.502390</td>\n",
       "      <td>-0.343755</td>\n",
       "      <td>0.601664</td>\n",
       "      <td>-0.347635</td>\n",
       "      <td>-0.398987</td>\n",
       "    </tr>\n",
       "    <tr>\n",
       "      <th>displacement</th>\n",
       "      <td>-0.805974</td>\n",
       "      <td>0.950640</td>\n",
       "      <td>1.000000</td>\n",
       "      <td>0.898021</td>\n",
       "      <td>0.933090</td>\n",
       "      <td>-0.542844</td>\n",
       "      <td>-0.365444</td>\n",
       "      <td>0.650265</td>\n",
       "      <td>-0.370661</td>\n",
       "      <td>-0.435988</td>\n",
       "    </tr>\n",
       "    <tr>\n",
       "      <th>horsepower</th>\n",
       "      <td>-0.781526</td>\n",
       "      <td>0.844105</td>\n",
       "      <td>0.898021</td>\n",
       "      <td>1.000000</td>\n",
       "      <td>0.868093</td>\n",
       "      <td>-0.686662</td>\n",
       "      <td>-0.409999</td>\n",
       "      <td>0.484609</td>\n",
       "      <td>-0.282414</td>\n",
       "      <td>-0.319087</td>\n",
       "    </tr>\n",
       "    <tr>\n",
       "      <th>weight</th>\n",
       "      <td>-0.833823</td>\n",
       "      <td>0.896682</td>\n",
       "      <td>0.933090</td>\n",
       "      <td>0.868093</td>\n",
       "      <td>1.000000</td>\n",
       "      <td>-0.419083</td>\n",
       "      <td>-0.302701</td>\n",
       "      <td>0.598580</td>\n",
       "      <td>-0.297977</td>\n",
       "      <td>-0.442127</td>\n",
       "    </tr>\n",
       "    <tr>\n",
       "      <th>acceleration</th>\n",
       "      <td>0.407299</td>\n",
       "      <td>-0.502390</td>\n",
       "      <td>-0.542844</td>\n",
       "      <td>-0.686662</td>\n",
       "      <td>-0.419083</td>\n",
       "      <td>1.000000</td>\n",
       "      <td>0.274140</td>\n",
       "      <td>-0.234106</td>\n",
       "      <td>0.173754</td>\n",
       "      <td>0.118919</td>\n",
       "    </tr>\n",
       "    <tr>\n",
       "      <th>model year</th>\n",
       "      <td>0.574288</td>\n",
       "      <td>-0.343755</td>\n",
       "      <td>-0.365444</td>\n",
       "      <td>-0.409999</td>\n",
       "      <td>-0.302701</td>\n",
       "      <td>0.274140</td>\n",
       "      <td>1.000000</td>\n",
       "      <td>-0.131690</td>\n",
       "      <td>-0.039373</td>\n",
       "      <td>0.196299</td>\n",
       "    </tr>\n",
       "    <tr>\n",
       "      <th>USA</th>\n",
       "      <td>-0.564758</td>\n",
       "      <td>0.601664</td>\n",
       "      <td>0.650265</td>\n",
       "      <td>0.484609</td>\n",
       "      <td>0.598580</td>\n",
       "      <td>-0.234106</td>\n",
       "      <td>-0.131690</td>\n",
       "      <td>1.000000</td>\n",
       "      <td>-0.592308</td>\n",
       "      <td>-0.649437</td>\n",
       "    </tr>\n",
       "    <tr>\n",
       "      <th>Europe</th>\n",
       "      <td>0.246484</td>\n",
       "      <td>-0.347635</td>\n",
       "      <td>-0.370661</td>\n",
       "      <td>-0.282414</td>\n",
       "      <td>-0.297977</td>\n",
       "      <td>0.173754</td>\n",
       "      <td>-0.039373</td>\n",
       "      <td>-0.592308</td>\n",
       "      <td>1.000000</td>\n",
       "      <td>-0.228008</td>\n",
       "    </tr>\n",
       "    <tr>\n",
       "      <th>Japan</th>\n",
       "      <td>0.449853</td>\n",
       "      <td>-0.398987</td>\n",
       "      <td>-0.435988</td>\n",
       "      <td>-0.319087</td>\n",
       "      <td>-0.442127</td>\n",
       "      <td>0.118919</td>\n",
       "      <td>0.196299</td>\n",
       "      <td>-0.649437</td>\n",
       "      <td>-0.228008</td>\n",
       "      <td>1.000000</td>\n",
       "    </tr>\n",
       "  </tbody>\n",
       "</table>\n",
       "</div>"
      ],
      "text/plain": [
       "                   mpg  cylinders  displacement  horsepower    weight  \\\n",
       "mpg           1.000000  -0.776592     -0.805974   -0.781526 -0.833823   \n",
       "cylinders    -0.776592   1.000000      0.950640    0.844105  0.896682   \n",
       "displacement -0.805974   0.950640      1.000000    0.898021  0.933090   \n",
       "horsepower   -0.781526   0.844105      0.898021    1.000000  0.868093   \n",
       "weight       -0.833823   0.896682      0.933090    0.868093  1.000000   \n",
       "acceleration  0.407299  -0.502390     -0.542844   -0.686662 -0.419083   \n",
       "model year    0.574288  -0.343755     -0.365444   -0.409999 -0.302701   \n",
       "USA          -0.564758   0.601664      0.650265    0.484609  0.598580   \n",
       "Europe        0.246484  -0.347635     -0.370661   -0.282414 -0.297977   \n",
       "Japan         0.449853  -0.398987     -0.435988   -0.319087 -0.442127   \n",
       "\n",
       "              acceleration  model year       USA    Europe     Japan  \n",
       "mpg               0.407299    0.574288 -0.564758  0.246484  0.449853  \n",
       "cylinders        -0.502390   -0.343755  0.601664 -0.347635 -0.398987  \n",
       "displacement     -0.542844   -0.365444  0.650265 -0.370661 -0.435988  \n",
       "horsepower       -0.686662   -0.409999  0.484609 -0.282414 -0.319087  \n",
       "weight           -0.419083   -0.302701  0.598580 -0.297977 -0.442127  \n",
       "acceleration      1.000000    0.274140 -0.234106  0.173754  0.118919  \n",
       "model year        0.274140    1.000000 -0.131690 -0.039373  0.196299  \n",
       "USA              -0.234106   -0.131690  1.000000 -0.592308 -0.649437  \n",
       "Europe            0.173754   -0.039373 -0.592308  1.000000 -0.228008  \n",
       "Japan             0.118919    0.196299 -0.649437 -0.228008  1.000000  "
      ]
     },
     "execution_count": 33,
     "metadata": {},
     "output_type": "execute_result"
    }
   ],
   "source": [
    "# 위에서 히트맵을 확인해본 결과 다중공선성이 의심되었기 때문에 correlation을 확인해보고\n",
    "# 상관관계가 높은 변수들은 제거해 주도록 한다.\n",
    "# cylinders, displacement, weight 세가지 변수 간의 상관관계가 약 90% 이상이기 때문에 하나만 남겨두고\n",
    "# 모두 제거하도록 한다.\n",
    "corr = scaled.corr()\n",
    "corr"
   ]
  },
  {
   "cell_type": "code",
   "execution_count": 34,
   "metadata": {},
   "outputs": [
    {
     "data": {
      "text/html": [
       "<div>\n",
       "<style scoped>\n",
       "    .dataframe tbody tr th:only-of-type {\n",
       "        vertical-align: middle;\n",
       "    }\n",
       "\n",
       "    .dataframe tbody tr th {\n",
       "        vertical-align: top;\n",
       "    }\n",
       "\n",
       "    .dataframe thead th {\n",
       "        text-align: right;\n",
       "    }\n",
       "</style>\n",
       "<table border=\"1\" class=\"dataframe\">\n",
       "  <thead>\n",
       "    <tr style=\"text-align: right;\">\n",
       "      <th></th>\n",
       "      <th>VIF Factor</th>\n",
       "    </tr>\n",
       "  </thead>\n",
       "  <tbody>\n",
       "    <tr>\n",
       "      <th>cylinders</th>\n",
       "      <td>31.694422</td>\n",
       "    </tr>\n",
       "    <tr>\n",
       "      <th>displacement</th>\n",
       "      <td>47.766102</td>\n",
       "    </tr>\n",
       "    <tr>\n",
       "      <th>horsepower</th>\n",
       "      <td>15.901536</td>\n",
       "    </tr>\n",
       "    <tr>\n",
       "      <th>weight</th>\n",
       "      <td>34.366641</td>\n",
       "    </tr>\n",
       "    <tr>\n",
       "      <th>acceleration</th>\n",
       "      <td>5.522307</td>\n",
       "    </tr>\n",
       "    <tr>\n",
       "      <th>model year</th>\n",
       "      <td>3.710362</td>\n",
       "    </tr>\n",
       "  </tbody>\n",
       "</table>\n",
       "</div>"
      ],
      "text/plain": [
       "              VIF Factor\n",
       "cylinders      31.694422\n",
       "displacement   47.766102\n",
       "horsepower     15.901536\n",
       "weight         34.366641\n",
       "acceleration    5.522307\n",
       "model year      3.710362"
      ]
     },
     "execution_count": 34,
     "metadata": {},
     "output_type": "execute_result"
    }
   ],
   "source": [
    "# 조금 더 정확하게 다중공선성을 확인해 보기 위해 vif(분산팽창지수)를 이용한다.\n",
    "# vif가 10 이상이면 다중공선성을 의심해봐야한다.\n",
    "# 밑의 결과를 보았을 때 가장큰 값을 가지는 vif 부터 제거해주도록한다.\n",
    "a = scaled.drop(['mpg', 'USA', 'Europe', 'Japan'], axis = 1)\n",
    "vif = pd.DataFrame()\n",
    "vif['VIF Factor'] = [variance_inflation_factor(a.values, i) for i in range(a.shape[1])]\n",
    "vif.index = a.columns\n",
    "vif"
   ]
  },
  {
   "cell_type": "code",
   "execution_count": 35,
   "metadata": {},
   "outputs": [
    {
     "data": {
      "text/html": [
       "<div>\n",
       "<style scoped>\n",
       "    .dataframe tbody tr th:only-of-type {\n",
       "        vertical-align: middle;\n",
       "    }\n",
       "\n",
       "    .dataframe tbody tr th {\n",
       "        vertical-align: top;\n",
       "    }\n",
       "\n",
       "    .dataframe thead th {\n",
       "        text-align: right;\n",
       "    }\n",
       "</style>\n",
       "<table border=\"1\" class=\"dataframe\">\n",
       "  <thead>\n",
       "    <tr style=\"text-align: right;\">\n",
       "      <th></th>\n",
       "      <th>VIF Factor</th>\n",
       "    </tr>\n",
       "  </thead>\n",
       "  <tbody>\n",
       "    <tr>\n",
       "      <th>cylinders</th>\n",
       "      <td>17.445645</td>\n",
       "    </tr>\n",
       "    <tr>\n",
       "      <th>horsepower</th>\n",
       "      <td>14.989250</td>\n",
       "    </tr>\n",
       "    <tr>\n",
       "      <th>weight</th>\n",
       "      <td>25.740710</td>\n",
       "    </tr>\n",
       "    <tr>\n",
       "      <th>acceleration</th>\n",
       "      <td>4.686282</td>\n",
       "    </tr>\n",
       "    <tr>\n",
       "      <th>model year</th>\n",
       "      <td>3.653360</td>\n",
       "    </tr>\n",
       "  </tbody>\n",
       "</table>\n",
       "</div>"
      ],
      "text/plain": [
       "              VIF Factor\n",
       "cylinders      17.445645\n",
       "horsepower     14.989250\n",
       "weight         25.740710\n",
       "acceleration    4.686282\n",
       "model year      3.653360"
      ]
     },
     "execution_count": 35,
     "metadata": {},
     "output_type": "execute_result"
    }
   ],
   "source": [
    "# displacement 변수를 제거해 준 뒤에 vif를 확인해본 결과 아직 다중공선성이 의심되는\n",
    "# 변수들이 확인되었기 때문에 그 다음으로 vif가 높은 weight를 제거해준다.\n",
    "a = a.drop(['displacement'], axis = 1)\n",
    "vif = pd.DataFrame()\n",
    "vif['VIF Factor'] = [variance_inflation_factor(a.values, i) for i in range(a.shape[1])]\n",
    "vif.index = a.columns\n",
    "vif"
   ]
  },
  {
   "cell_type": "code",
   "execution_count": 36,
   "metadata": {},
   "outputs": [
    {
     "data": {
      "text/html": [
       "<div>\n",
       "<style scoped>\n",
       "    .dataframe tbody tr th:only-of-type {\n",
       "        vertical-align: middle;\n",
       "    }\n",
       "\n",
       "    .dataframe tbody tr th {\n",
       "        vertical-align: top;\n",
       "    }\n",
       "\n",
       "    .dataframe thead th {\n",
       "        text-align: right;\n",
       "    }\n",
       "</style>\n",
       "<table border=\"1\" class=\"dataframe\">\n",
       "  <thead>\n",
       "    <tr style=\"text-align: right;\">\n",
       "      <th></th>\n",
       "      <th>VIF Factor</th>\n",
       "    </tr>\n",
       "  </thead>\n",
       "  <tbody>\n",
       "    <tr>\n",
       "      <th>cylinders</th>\n",
       "      <td>11.013003</td>\n",
       "    </tr>\n",
       "    <tr>\n",
       "      <th>horsepower</th>\n",
       "      <td>10.630152</td>\n",
       "    </tr>\n",
       "    <tr>\n",
       "      <th>acceleration</th>\n",
       "      <td>4.337587</td>\n",
       "    </tr>\n",
       "    <tr>\n",
       "      <th>model year</th>\n",
       "      <td>3.652840</td>\n",
       "    </tr>\n",
       "  </tbody>\n",
       "</table>\n",
       "</div>"
      ],
      "text/plain": [
       "              VIF Factor\n",
       "cylinders      11.013003\n",
       "horsepower     10.630152\n",
       "acceleration    4.337587\n",
       "model year      3.652840"
      ]
     },
     "execution_count": 36,
     "metadata": {},
     "output_type": "execute_result"
    }
   ],
   "source": [
    "# weight 변수를 제거해 준 뒤에 확인해보니 어느 정도 vif가 약 10정도 되는 것을\n",
    "# 확인할 수 있다. 어느 정도 다중공선성의 문제가 해결됬다고 생각되어 다음 분석을\n",
    "# 진행하도록 하겠다.\n",
    "a = a.drop(['weight'], axis = 1)\n",
    "vif = pd.DataFrame()\n",
    "vif['VIF Factor'] = [variance_inflation_factor(a.values, i) for i in range(a.shape[1])]\n",
    "vif.index = a.columns\n",
    "vif"
   ]
  },
  {
   "cell_type": "code",
   "execution_count": 50,
   "metadata": {},
   "outputs": [],
   "source": [
    "# cylinders, displacement, weight 간의 상관관계가 높아\n",
    "# 다중공선성 문제가 발생하기 때문에 몇개의 변수를 제거해주고 분석을 진행한다.\n",
    "# 아래와 같이 statsmodel.api를 통해 회귀분석을 할 수 있지만 이럴 경우에는\n",
    "# train set과 test set을 나누어 분석할 수 없기 때문에 추천하는 방법은 아니다.\n",
    "# 다만 전체적으로 빠르게 통계량을 확인하고 싶을 때 좋은 방법이다.\n",
    "\n",
    "y = scaled['mpg']\n",
    "x = scaled.drop(['mpg', 'displacement', 'weight'], axis = 1)\n",
    "# X = sm.add_constant(x)\n",
    "# model = sm.OLS(y, X).fit()\n",
    "# model.summary()"
   ]
  },
  {
   "cell_type": "code",
   "execution_count": 51,
   "metadata": {},
   "outputs": [],
   "source": [
    "# train set과 test set을 8:2 비율로 나눈다.\n",
    "x_train, x_test, y_train, y_test = train_test_split(x, y, test_size=0.3, random_state=37)"
   ]
  },
  {
   "cell_type": "code",
   "execution_count": 52,
   "metadata": {},
   "outputs": [
    {
     "name": "stdout",
     "output_type": "stream",
     "text": [
      "r_square :  0.78990\n",
      "mse :  0.00871\n"
     ]
    }
   ],
   "source": [
    "# sklearn의 LinearRegression 모델로 학습시켜 결과를 확인한다.\n",
    "# 여기서는 r_square 값을 lr.score로 나타낼 수 있는데 train set으로 학습 시킨\n",
    "# 모델에 대하여 test set을 가지고 r_square값을 구해야 한다.\n",
    "# 그리고 실제값과 예측값의 오차(mse)가 0에 가까울 수록 좋은 모델에 가까워진다.\n",
    "lr = LinearRegression()\n",
    "lr.fit(x_train, y_train)\n",
    "y_pred = lr.predict(x_test)\n",
    "r_square = lr.score(x_test, y_test)\n",
    "mse = mean_squared_error(y_test, y_pred)\n",
    "print('r_square : ', format(r_square, '.5f'))\n",
    "print('mse : ', format(mse, '.5f'))"
   ]
  },
  {
   "cell_type": "code",
   "execution_count": 53,
   "metadata": {},
   "outputs": [],
   "source": [
    "# 적절한 polynomial degree 찾기\n",
    "# mse가 최소가 되는 polynomial degree를 찾는다.\n",
    "def proper_polynomial_degree(function):\n",
    "    poly_degree = np.arange(1, 15)\n",
    "    poly_score = []\n",
    "    for i in poly_degree:\n",
    "        poly = PolynomialFeatures(i)\n",
    "        model = make_pipeline(poly, function).fit(x_train, y_train)\n",
    "        y_pred = model.predict(x_test)\n",
    "        mse = mean_squared_error(y_test, y_pred)\n",
    "        poly_score.append(mse)\n",
    "    \n",
    "    plt.plot(poly_degree, poly_score)\n",
    "    plt.xlabel('degree', fontsize = 13)\n",
    "    plt.ylabel('mean square error', fontsize = 13)\n",
    "    plt.show()\n",
    "\n",
    "    print(\"proper degree : \", poly_score.index(min(poly_score)) + 1)"
   ]
  },
  {
   "cell_type": "code",
   "execution_count": 54,
   "metadata": {},
   "outputs": [
    {
     "data": {
      "image/png": "[encoded data removed]",
      "text/plain": [
       "<Figure size 432x288 with 1 Axes>"
      ]
     },
     "metadata": {
      "needs_background": "light"
     },
     "output_type": "display_data"
    },
    {
     "name": "stdout",
     "output_type": "stream",
     "text": [
      "proper degree :  2\n",
      "r_square_poly :  0.89318\n",
      "mse_poly :  0.00443\n"
     ]
    }
   ],
   "source": [
    "# polynomial 회귀\n",
    "proper_polynomial_degree(LinearRegression(0.001))\n",
    "\n",
    "poly = PolynomialFeatures(2)\n",
    "model_poly = make_pipeline(poly, LinearRegression(0.001)).fit(x_train, y_train)\n",
    "r_square_poly = model_poly.score(x_test, y_test)\n",
    "y_pred_poly = model_poly.predict(x_test)\n",
    "mse_poly = mean_squared_error(y_test, y_pred_poly)\n",
    "print('r_square_poly : ', format(r_square_poly, '.5f'))\n",
    "print('mse_poly : ', format(mse_poly, '.5f'))"
   ]
  },
  {
   "cell_type": "code",
   "execution_count": 56,
   "metadata": {},
   "outputs": [
    {
     "data": {
      "image/png": "[encoded data removed]",
      "text/plain": [
       "<Figure size 432x288 with 1 Axes>"
      ]
     },
     "metadata": {
      "needs_background": "light"
     },
     "output_type": "display_data"
    },
    {
     "name": "stdout",
     "output_type": "stream",
     "text": [
      "proper degree :  3\n",
      "r_square_ridge :  0.89482\n",
      "mse_ridge :  0.00436\n"
     ]
    }
   ],
   "source": [
    "# ridge 회귀\n",
    "proper_polynomial_degree(Ridge(0.001))\n",
    "\n",
    "poly = PolynomialFeatures(3)\n",
    "model_ridge = make_pipeline(poly, Ridge(0.001)).fit(x_train, y_train)\n",
    "r_square_ridge = model_ridge.score(x_test, y_test)\n",
    "y_pred_ridge = model_ridge.predict(x_test)\n",
    "mse_ridge = mean_squared_error(y_test, y_pred_ridge)\n",
    "print('r_square_ridge : ', format(r_square_ridge, '.5f'))\n",
    "print('mse_ridge : ', format(mse_ridge, '.5f'))\n"
   ]
  },
  {
   "cell_type": "code",
   "execution_count": 57,
   "metadata": {},
   "outputs": [
    {
     "data": {
      "image/png": "[encoded data removed]",
      "text/plain": [
       "<Figure size 432x288 with 1 Axes>"
      ]
     },
     "metadata": {
      "needs_background": "light"
     },
     "output_type": "display_data"
    },
    {
     "name": "stdout",
     "output_type": "stream",
     "text": [
      "proper degree :  13\n",
      "r_square_lasso :  0.87190\n",
      "mse_lasso :  0.00531\n"
     ]
    }
   ],
   "source": [
    "# lasso 회귀\n",
    "proper_polynomial_degree(Lasso(0.001))\n",
    "\n",
    "poly = PolynomialFeatures(13)\n",
    "model_lasso = make_pipeline(poly, Lasso(0.001)).fit(x_train, y_train)\n",
    "r_square_lasso = model_lasso.score(x_test, y_test)\n",
    "y_pred_lasso = model_lasso.predict(x_test)\n",
    "mse_lasso = mean_squared_error(y_test, y_pred_lasso)\n",
    "print('r_square_lasso : ', format(r_square_lasso, '.5f'))\n",
    "print('mse_lasso : ', format(mse_lasso, '.5f'))"
   ]
  },
  {
   "cell_type": "code",
   "execution_count": 59,
   "metadata": {
    "scrolled": true
   },
   "outputs": [
    {
     "data": {
      "image/png": "[encoded data removed]",
      "text/plain": [
       "<Figure size 432x288 with 1 Axes>"
      ]
     },
     "metadata": {
      "needs_background": "light"
     },
     "output_type": "display_data"
    },
    {
     "name": "stdout",
     "output_type": "stream",
     "text": [
      "proper degree :  10\n",
      "r_square_eNet :  0.88346\n",
      "mse_eNet :  0.00483\n"
     ]
    }
   ],
   "source": [
    "# elasticnet 회귀\n",
    "proper_polynomial_degree(ElasticNet(alpha=0.001, l1_ratio=0.5))\n",
    "\n",
    "poly = PolynomialFeatures(10)\n",
    "model_eNet = make_pipeline(poly, ElasticNet(alpha=0.001, l1_ratio=0.5)).fit(x_train, y_train)\n",
    "r_square_eNet = model_eNet.score(x_test, y_test)\n",
    "y_pred_eNet = model_eNet.predict(x_test)\n",
    "mse_eNet = mean_squared_error(y_test, y_pred_eNet)\n",
    "print('r_square_eNet : ', format(r_square_eNet, '.5f'))\n",
    "print('mse_eNet : ', format(mse_eNet, '.5f'))"
   ]
  },
  {
   "cell_type": "code",
   "execution_count": 61,
   "metadata": {},
   "outputs": [
    {
     "data": {
      "image/png": "[encoded data removed]",
      "text/plain": [
       "<Figure size 432x288 with 1 Axes>"
      ]
     },
     "metadata": {
      "needs_background": "light"
     },
     "output_type": "display_data"
    },
    {
     "name": "stdout",
     "output_type": "stream",
     "text": [
      "proper model :  Ridge\n"
     ]
    }
   ],
   "source": [
    "# 4가지 방법으로 mse를 비교해 봤을 때 Ridge 회귀의 mse가 가장 작아\n",
    "# 이 데이터에 맞는 가장 좋은 모델이라 볼 수 있다.\n",
    "model_name = ['Linear', 'Poly','Ridge', 'Lasso', 'ElasticNet']\n",
    "mse_score = [mse, mse_poly, mse_ridge, mse_lasso, mse_eNet]\n",
    "\n",
    "sns.barplot(model_name, mse_score)\n",
    "plt.ylim(0, 0.01)\n",
    "plt.ylabel('MSE', fontsize=13)\n",
    "plt.show()\n",
    "print(\"proper model : \", model_name[mse_score.index(min(mse_score))])"
   ]
  },
  {
   "cell_type": "code",
   "execution_count": 60,
   "metadata": {},
   "outputs": [
    {
     "name": "stdout",
     "output_type": "stream",
     "text": [
      "coef :  [ 0.         -0.14134935 -0.51073035 -0.19057076  0.18545497 -0.04843363\n",
      "  0.00859344  0.0398402 ]\n",
      "intercept :  0.6489350952151633\n"
     ]
    }
   ],
   "source": [
    "# 최종 회귀식\n",
    "# print(\"coef : \", clf_ridge.best_estimator_.coef_)\n",
    "# print(\"intercept : \", clf_ridge.best_estimator_.intercept_)"
   ]
  }
 ],
 "metadata": {
  "kernelspec": {
   "display_name": "Python 3",
   "language": "python",
   "name": "python3"
  },
  "language_info": {
   "codemirror_mode": {
    "name": "ipython",
    "version": 3
   },
   "file_extension": ".py",
   "mimetype": "text/x-python",
   "name": "python",
   "nbconvert_exporter": "python",
   "pygments_lexer": "ipython3",
   "version": "3.7.6"
  }
 },
 "nbformat": 4,
 "nbformat_minor": 4
}
